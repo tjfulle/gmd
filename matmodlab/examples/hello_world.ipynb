{
 "cells": [
  {
   "cell_type": "code",
   "execution_count": null,
   "metadata": {
    "collapsed": false,
    "scrolled": true
   },
   "outputs": [],
   "source": [
    "%matmodlab"
   ]
  },
  {
   "cell_type": "markdown",
   "metadata": {},
   "source": [
    "# Hello World!\n",
    "\n",
    "This is the most basic single-element test. It runs a linear elastic material through a series of deformations in the principal directions. Then we plot the stresses versus time."
   ]
  },
  {
   "cell_type": "code",
   "execution_count": null,
   "metadata": {
    "collapsed": false
   },
   "outputs": [],
   "source": [
    "# initialize the job\n",
    "mps = MaterialPointSimulator(\"hello_world\")\n",
    "\n",
    "# set up the linear elastic model \"pyelastic\"\n",
    "mps.Material(\"pyelastic\", {\"K\": 1.0e10, \"G\": 1.0e9})\n",
    "\n",
    "# define the steps\n",
    "mps.StrainStep(components=(1., 0., 0.), frames=25)\n",
    "mps.StrainStep(components=(0., 1., 0.), frames=25)\n",
    "mps.StrainStep(components=(0., 0., 1.), frames=25)\n",
    "mps.StrainStep(components=(0., 0., 0.), frames=25)"
   ]
  },
  {
   "cell_type": "markdown",
   "metadata": {},
   "source": [
    "## Plot the Results"
   ]
  },
  {
   "cell_type": "code",
   "execution_count": null,
   "metadata": {
    "collapsed": false
   },
   "outputs": [],
   "source": [
    "plot = create_figure()\n",
    "mps.plot('Time', 'S.XX', plot=plot, legend='stress xx', color='green')\n",
    "mps.plot('Time', 'S.YY', plot=plot, legend='stress yy', color='red')\n",
    "mps.plot('Time', 'S.ZZ', plot=plot, legend='stress zz', color='blue')\n",
    "show(plot)"
   ]
  },
  {
   "cell_type": "code",
   "execution_count": null,
   "metadata": {
    "collapsed": true
   },
   "outputs": [],
   "source": []
  }
 ],
 "metadata": {
  "kernelspec": {
   "display_name": "Python [default]",
   "language": "python",
   "name": "python2"
  },
  "language_info": {
   "codemirror_mode": {
    "name": "ipython",
    "version": 2
   },
   "file_extension": ".py",
   "mimetype": "text/x-python",
   "name": "python",
   "nbconvert_exporter": "python",
   "pygments_lexer": "ipython2",
   "version": "2.7.12"
  }
 },
 "nbformat": 4,
 "nbformat_minor": 0
}
