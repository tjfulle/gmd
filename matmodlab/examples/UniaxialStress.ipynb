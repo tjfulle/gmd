{
 "cells": [
  {
   "cell_type": "code",
   "execution_count": null,
   "metadata": {
    "collapsed": false,
    "scrolled": true
   },
   "outputs": [],
   "source": [
    "%matmodlab"
   ]
  },
  {
   "cell_type": "markdown",
   "metadata": {},
   "source": [
    "# Uniaxial Stress Simulations\n",
    "\n",
    "Two simulations will be run.  In the first, a full stress tensor is prescribed.  In the second, the axial strain (from the first simulation) is prescribed and the lateral stress held at 0."
   ]
  },
  {
   "cell_type": "code",
   "execution_count": null,
   "metadata": {
    "collapsed": true
   },
   "outputs": [],
   "source": [
    "models = {}\n",
    "parameters = {\"K\": 9.980040E+09, \"G\": 3.750938E+09}"
   ]
  },
  {
   "cell_type": "code",
   "execution_count": null,
   "metadata": {
    "collapsed": false
   },
   "outputs": [],
   "source": [
    "# setup the first simulation\n",
    "models['mps-1'] = MaterialPointSimulator(\"uniaxial_stress-1\")\n",
    "\n",
    "# set up the material\n",
    "models['mps-1'].Material(\"elastic\", parameters)\n",
    "\n",
    "# define the steps\n",
    "x, N = 1e6, 100\n",
    "models['mps-1'].StressStep(components=(1, 0, 0), scale=x, frames=N)\n",
    "models['mps-1'].StressStep(components=(2, 0, 0), scale=x, frames=N)\n",
    "models['mps-1'].StressStep(components=(1, 0, 0), scale=x, frames=N)\n",
    "models['mps-1'].StressStep(components=(0, 0, 0), scale=x, frames=N)"
   ]
  },
  {
   "cell_type": "code",
   "execution_count": null,
   "metadata": {
    "collapsed": false
   },
   "outputs": [],
   "source": [
    "# Run the same steps but use the strain history from the previous simulation\n",
    "# setup the simulation\n",
    "models['mps-2'] = MaterialPointSimulator(\"uniaxial_stress-2\")\n",
    "models['mps-2'].Material(\"elastic\", parameters)\n",
    "\n",
    "# set up the steps, using strain from the previous simulaiton\n",
    "data_1 = np.array(models['mps-1'].get('E.XX', at_step=1))\n",
    "for row in data_1[1:]:\n",
    "    models['mps-2'].MixedStep(components=(row, 0, 0), descriptors='ESS', frames=N)"
   ]
  },
  {
   "cell_type": "markdown",
   "metadata": {},
   "source": [
    "## Plot the Results"
   ]
  },
  {
   "cell_type": "code",
   "execution_count": null,
   "metadata": {
    "collapsed": false
   },
   "outputs": [],
   "source": [
    "data_2 = models['mps-2'].get('E.XX', 'S.XX', 'Time', at_step=1)\n",
    "plot = create_figure()\n",
    "models['mps-1'].plot('E.XX', 'S.XX', plot=plot, legend='mps-1', color='green')\n",
    "plot.circle(data_2[0], data_2[1], legend='mps-2', \n",
    "            line_color='red', fill_color=None)\n",
    "show(plot)"
   ]
  },
  {
   "cell_type": "code",
   "execution_count": null,
   "metadata": {
    "collapsed": true
   },
   "outputs": [],
   "source": []
  }
 ],
 "metadata": {
  "kernelspec": {
   "display_name": "Python [default]",
   "language": "python",
   "name": "python2"
  },
  "language_info": {
   "codemirror_mode": {
    "name": "ipython",
    "version": 2
   },
   "file_extension": ".py",
   "mimetype": "text/x-python",
   "name": "python",
   "nbconvert_exporter": "python",
   "pygments_lexer": "ipython2",
   "version": "2.7.12"
  }
 },
 "nbformat": 4,
 "nbformat_minor": 0
}
