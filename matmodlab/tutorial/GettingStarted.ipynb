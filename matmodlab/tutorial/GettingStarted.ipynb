{
 "cells": [
  {
   "cell_type": "markdown",
   "metadata": {},
   "source": [
    "# Getting Started"
   ]
  },
  {
   "cell_type": "markdown",
   "metadata": {},
   "source": [
    "<a name='contents'></a>\n",
    "## Contents\n",
    "\n",
    "1. <a href='#magic'>The <tt>%matmodlab</tt> Magic</a>\n",
    "1. <a href='#model.def'>Defining a Model</a>\n",
    "   1. <a href='#model.def.mat'>Material Model Definition</a>\n",
    "   2. <a href='#model.def.step'>Step Definitions</a>\n",
    "2. <a href='#model.run'>Running a Model</a>\n",
    "3. <a href='#model.out'>Model Outputs</a>\n",
    "4. <a href='#model.view'>Viewing Model Results</a>"
   ]
  },
  {
   "cell_type": "markdown",
   "metadata": {},
   "source": [
    "<a name='magic'></a>\n",
    "## The %matmodlab Magic\n",
    "\n",
    "A notebook should include the IPython magic\n",
    "\n",
    "    %matmodlab\n",
    "\n",
    "near its beginning to populate its namespace with Matmodlab specific parameters, classes, and symbolic constants."
   ]
  },
  {
   "cell_type": "code",
   "execution_count": 1,
   "metadata": {
    "collapsed": false
   },
   "outputs": [
    {
     "data": {
      "text/html": [
       "\n",
       "    <div class=\"bk-root\">\n",
       "        <a href=\"http://bokeh.pydata.org\" target=\"_blank\" class=\"bk-logo bk-logo-small bk-logo-notebook\"></a>\n",
       "        <span id=\"de34dfe1-fe5e-4da6-bf37-ac5411de4d59\">Loading BokehJS ...</span>\n",
       "    </div>"
      ]
     },
     "metadata": {},
     "output_type": "display_data"
    },
    {
     "data": {
      "application/javascript": [
       "\n",
       "(function(global) {\n",
       "  function now() {\n",
       "    return new Date();\n",
       "  }\n",
       "\n",
       "  var force = \"1\";\n",
       "\n",
       "  if (typeof (window._bokeh_onload_callbacks) === \"undefined\" || force !== \"\") {\n",
       "    window._bokeh_onload_callbacks = [];\n",
       "    window._bokeh_is_loading = undefined;\n",
       "  }\n",
       "\n",
       "\n",
       "  \n",
       "  if (typeof (window._bokeh_timeout) === \"undefined\" || force !== \"\") {\n",
       "    window._bokeh_timeout = Date.now() + 5000;\n",
       "    window._bokeh_failed_load = false;\n",
       "  }\n",
       "\n",
       "  var NB_LOAD_WARNING = {'data': {'text/html':\n",
       "     \"<div style='background-color: #fdd'>\\n\"+\n",
       "     \"<p>\\n\"+\n",
       "     \"BokehJS does not appear to have successfully loaded. If loading BokehJS from CDN, this \\n\"+\n",
       "     \"may be due to a slow or bad network connection. Possible fixes:\\n\"+\n",
       "     \"</p>\\n\"+\n",
       "     \"<ul>\\n\"+\n",
       "     \"<li>re-rerun `output_notebook()` to attempt to load from CDN again, or</li>\\n\"+\n",
       "     \"<li>use INLINE resources instead, as so:</li>\\n\"+\n",
       "     \"</ul>\\n\"+\n",
       "     \"<code>\\n\"+\n",
       "     \"from bokeh.resources import INLINE\\n\"+\n",
       "     \"output_notebook(resources=INLINE)\\n\"+\n",
       "     \"</code>\\n\"+\n",
       "     \"</div>\"}};\n",
       "\n",
       "  function display_loaded() {\n",
       "    if (window.Bokeh !== undefined) {\n",
       "      Bokeh.$(\"#de34dfe1-fe5e-4da6-bf37-ac5411de4d59\").text(\"BokehJS successfully loaded.\");\n",
       "    } else if (Date.now() < window._bokeh_timeout) {\n",
       "      setTimeout(display_loaded, 100)\n",
       "    }\n",
       "  }\n",
       "\n",
       "  function run_callbacks() {\n",
       "    window._bokeh_onload_callbacks.forEach(function(callback) { callback() });\n",
       "    delete window._bokeh_onload_callbacks\n",
       "    console.info(\"Bokeh: all callbacks have finished\");\n",
       "  }\n",
       "\n",
       "  function load_libs(js_urls, callback) {\n",
       "    window._bokeh_onload_callbacks.push(callback);\n",
       "    if (window._bokeh_is_loading > 0) {\n",
       "      console.log(\"Bokeh: BokehJS is being loaded, scheduling callback at\", now());\n",
       "      return null;\n",
       "    }\n",
       "    if (js_urls == null || js_urls.length === 0) {\n",
       "      run_callbacks();\n",
       "      return null;\n",
       "    }\n",
       "    console.log(\"Bokeh: BokehJS not loaded, scheduling load and callback at\", now());\n",
       "    window._bokeh_is_loading = js_urls.length;\n",
       "    for (var i = 0; i < js_urls.length; i++) {\n",
       "      var url = js_urls[i];\n",
       "      var s = document.createElement('script');\n",
       "      s.src = url;\n",
       "      s.async = false;\n",
       "      s.onreadystatechange = s.onload = function() {\n",
       "        window._bokeh_is_loading--;\n",
       "        if (window._bokeh_is_loading === 0) {\n",
       "          console.log(\"Bokeh: all BokehJS libraries loaded\");\n",
       "          run_callbacks()\n",
       "        }\n",
       "      };\n",
       "      s.onerror = function() {\n",
       "        console.warn(\"failed to load library \" + url);\n",
       "      };\n",
       "      console.log(\"Bokeh: injecting script tag for BokehJS library: \", url);\n",
       "      document.getElementsByTagName(\"head\")[0].appendChild(s);\n",
       "    }\n",
       "  };var element = document.getElementById(\"de34dfe1-fe5e-4da6-bf37-ac5411de4d59\");\n",
       "  if (element == null) {\n",
       "    console.log(\"Bokeh: ERROR: autoload.js configured with elementid 'de34dfe1-fe5e-4da6-bf37-ac5411de4d59' but no matching script tag was found. \")\n",
       "    return false;\n",
       "  }\n",
       "\n",
       "  var js_urls = ['https://cdn.pydata.org/bokeh/release/bokeh-0.12.2.min.js', 'https://cdn.pydata.org/bokeh/release/bokeh-widgets-0.12.2.min.js', 'https://cdn.pydata.org/bokeh/release/bokeh-compiler-0.12.2.min.js'];\n",
       "\n",
       "  var inline_js = [\n",
       "    function(Bokeh) {\n",
       "      Bokeh.set_log_level(\"info\");\n",
       "    },\n",
       "    \n",
       "    function(Bokeh) {\n",
       "      \n",
       "      Bokeh.$(\"#de34dfe1-fe5e-4da6-bf37-ac5411de4d59\").text(\"BokehJS is loading...\");\n",
       "    },\n",
       "    function(Bokeh) {\n",
       "      console.log(\"Bokeh: injecting CSS: https://cdn.pydata.org/bokeh/release/bokeh-0.12.2.min.css\");\n",
       "      Bokeh.embed.inject_css(\"https://cdn.pydata.org/bokeh/release/bokeh-0.12.2.min.css\");\n",
       "      console.log(\"Bokeh: injecting CSS: https://cdn.pydata.org/bokeh/release/bokeh-widgets-0.12.2.min.css\");\n",
       "      Bokeh.embed.inject_css(\"https://cdn.pydata.org/bokeh/release/bokeh-widgets-0.12.2.min.css\");\n",
       "    }\n",
       "  ];\n",
       "\n",
       "  function run_inline_js() {\n",
       "    \n",
       "    if ((window.Bokeh !== undefined) || (force === \"1\")) {\n",
       "      for (var i = 0; i < inline_js.length; i++) {\n",
       "        inline_js[i](window.Bokeh);\n",
       "      }if (force === \"1\") {\n",
       "        display_loaded();\n",
       "      }} else if (Date.now() < window._bokeh_timeout) {\n",
       "      setTimeout(run_inline_js, 100);\n",
       "    } else if (!window._bokeh_failed_load) {\n",
       "      console.log(\"Bokeh: BokehJS failed to load within specified timeout.\");\n",
       "      window._bokeh_failed_load = true;\n",
       "    } else if (!force) {\n",
       "      var cell = $(\"#de34dfe1-fe5e-4da6-bf37-ac5411de4d59\").parents('.cell').data().cell;\n",
       "      cell.output_area.append_execute_result(NB_LOAD_WARNING)\n",
       "    }\n",
       "\n",
       "  }\n",
       "\n",
       "  if (window._bokeh_is_loading === 0) {\n",
       "    console.log(\"Bokeh: BokehJS loaded, going straight to plotting\");\n",
       "    run_inline_js();\n",
       "  } else {\n",
       "    load_libs(js_urls, function() {\n",
       "      console.log(\"Bokeh: BokehJS plotting callback run at\", now());\n",
       "      run_inline_js();\n",
       "    });\n",
       "  }\n",
       "}(this));"
      ]
     },
     "metadata": {},
     "output_type": "display_data"
    },
    {
     "name": "stdout",
     "output_type": "stream",
     "text": [
      "Populating the interactive namespace from matmodlab and bokeh\n"
     ]
    }
   ],
   "source": [
    "%matmodlab"
   ]
  },
  {
   "cell_type": "markdown",
   "metadata": {},
   "source": [
    "If the `%matmodlab` magic function cannot be found by IPython, check to be sure that the notebook server was launched by `mml notebook`."
   ]
  },
  {
   "cell_type": "markdown",
   "metadata": {},
   "source": [
    "<a name='model.def'></a>\n",
    "## Defining a Model\n",
    "\n",
    "The purpose of a Matmodlab model is to predict the response of a material to deformation.  A Matmodlab model requires two parts to be fully defined: \n",
    "\n",
    "- *Material* model: the material type and associated parameters.\n",
    "- Deformation *step[s]*: defines deformation paths through which the material model is exercised.\n",
    "\n",
    "The `MaterialPointSimulator` object manages and allocates memory for materials and analysis steps. Minimally, instantiating a `MaterialPointSimulator` object requires a simulation ID:"
   ]
  },
  {
   "cell_type": "code",
   "execution_count": 2,
   "metadata": {
    "collapsed": true
   },
   "outputs": [],
   "source": [
    "mps = MaterialPointSimulator('jobid')"
   ]
  },
  {
   "cell_type": "markdown",
   "metadata": {},
   "source": [
    "Other optional arguments to `MaterialPointSimulator` are\n",
    "\n",
    "- `output_format` defines the output format of the simulation results.  Valid choices are `REC` [default] and `TXT`.\n",
    "- `d` specifies the directory to which simulation results are written.  The default is the current directory.\n",
    "\n",
    "**Note:** by default results *are not* written when exercised from the Notebook.  If written results are required, the `MaterialPointSimulator.dump` method must be called explicitly."
   ]
  },
  {
   "cell_type": "markdown",
   "metadata": {},
   "source": [
    "<a name='model.def.mat'></a>\n",
    "### Material model definition\n",
    "\n",
    "The material model is defined in Matmodlab by the `MaterialPointSimulator.Material` factory method.  The `Material` fully defines the mechanical response of the material and requires a material type and parameters:"
   ]
  },
  {
   "cell_type": "code",
   "execution_count": 3,
   "metadata": {
    "collapsed": false
   },
   "outputs": [
    {
     "data": {
      "text/plain": [
       "<materials_mat_pyelastic.PyElastic at 0x11baea510>"
      ]
     },
     "execution_count": 3,
     "metadata": {},
     "output_type": "execute_result"
    }
   ],
   "source": [
    "parameters = {'K': 1.3e11, 'G': 5.3e10}\n",
    "mps.Material('pyelastic', parameters)"
   ]
  },
  {
   "cell_type": "markdown",
   "metadata": {},
   "source": [
    "The `pyelastic` type is a linear elastic model implemented in Python.  The source code is contained in `matmodlab/materials/mat_pyelastic.py`.  The parameters `K` and `G` represent the bulk and shear modulus of the material, respectively."
   ]
  },
  {
   "cell_type": "markdown",
   "metadata": {},
   "source": [
    "<a name='model.def.step'></a>\n",
    "### Step Definitions\n",
    "\n",
    "Deformation steps define the components deformation and/or stress to be seen by the material model.  Deformation steps are defined by the `MaterialPointSimulator.AnalysisStep` factory method and several convenience functions:\n",
    "\n",
    "- `MaterialPointSimulator.StrainStep`: defines the components of strain\n",
    "- `MaterialPointSimulator.StrainRateStep`: defines the components of strain rate\n",
    "- `MaterialPointSimulator.StressStep`: defines the components of stress\n",
    "- `MaterialPointSimulator.StressRateStep`: defines the components of stress rate\n",
    "- `MaterialPointSimulator.MixedStep`: defines the mixed components of stress and strain (and their rates)\n",
    "\n",
    "Minimally, each of the preceding `Step` methods requires the six independent components of the associated second order tensor, arranged as the `XX`, `YY`, `ZZ`, `XY`, `YZ`, `XZ` components.  For example, a step of uniaxial strain is defined by:"
   ]
  },
  {
   "cell_type": "code",
   "execution_count": 4,
   "metadata": {
    "collapsed": true
   },
   "outputs": [],
   "source": [
    "ea = .1\n",
    "mps.StrainStep(components=(ea, 0, 0, 0, 0, 0))"
   ]
  },
  {
   "cell_type": "markdown",
   "metadata": {},
   "source": [
    "There is not limit to the number of steps in a model and steps are run in the order defined.  To reverse the step of uniaxial strain defined in the previous cell to a state of zero strain, simply define another step in which all components of strain are zero: "
   ]
  },
  {
   "cell_type": "code",
   "execution_count": 5,
   "metadata": {
    "collapsed": true
   },
   "outputs": [],
   "source": [
    "mps.StrainStep(components=(0, 0, 0))"
   ]
  },
  {
   "cell_type": "markdown",
   "metadata": {},
   "source": [
    "If `3 =< len(components) < 6`, the missing components are assumed to be zero (if `len(components)=1`, it is assumed to be volumetric strain).  \n",
    "\n",
    "From elementary linear elasticity, the axial and lateral stresses associated with the step of uniaxial strain are"
   ]
  },
  {
   "cell_type": "code",
   "execution_count": 6,
   "metadata": {
    "collapsed": true
   },
   "outputs": [],
   "source": [
    "sa = (parameters['K'] + 4 * parameters['G'] / 3) * ea\n",
    "sl = (parameters['K'] - 2 * parameters['G'] / 3) * ea"
   ]
  },
  {
   "cell_type": "markdown",
   "metadata": {},
   "source": [
    "Using a `StressStep`, an equivalent deformation path can be defined as"
   ]
  },
  {
   "cell_type": "code",
   "execution_count": 7,
   "metadata": {
    "collapsed": true
   },
   "outputs": [],
   "source": [
    "mps.StressStep(components=(sa, sl, sl), frames=50)\n",
    "mps.StressStep(components=(0, 0, 0), frames=50)"
   ]
  },
  {
   "cell_type": "markdown",
   "metadata": {},
   "source": [
    "The optional `frames` keyword was passed to the `StressStep` which instructs the `MaterialPointSimulator` object to perform the step in `frames` increments (50 in this case).  For `Stress` and `Mixed` steps, it is a good idea to increase the number of `frames` since the solution procedure involves a nonlinear Newton solve."
   ]
  },
  {
   "cell_type": "markdown",
   "metadata": {},
   "source": [
    "The `MixedStep` allows defining mixed-mode deformations of stress and strain.  The previous deformation path could have been defined by"
   ]
  },
  {
   "cell_type": "code",
   "execution_count": 8,
   "metadata": {
    "collapsed": true
   },
   "outputs": [],
   "source": [
    "mps.MixedStep(components=(ea, sl, sl), frames=50, descriptors=\"ESS\")\n",
    "mps.MixedStep(components=(0, 0, 0), frames=50, descriptors=\"ESS\")"
   ]
  },
  {
   "cell_type": "markdown",
   "metadata": {},
   "source": [
    "The keyword `descriptors` instructs the `MaterialPointSimulator` the intent of each `component`.  The i$^{\\rm th}$ descriptor corresponds to the i$^{\\rm th}$ component with `E` representing strain and `S` representing stress."
   ]
  },
  {
   "cell_type": "markdown",
   "metadata": {},
   "source": [
    "The deformation path can be defined equivalently through the specification of stress and strain rate steps:"
   ]
  },
  {
   "cell_type": "code",
   "execution_count": 9,
   "metadata": {
    "collapsed": false
   },
   "outputs": [],
   "source": [
    "mps.StrainRateStep(components=(ea, 0, 0), frames=50)\n",
    "mps.StrainRateStep(components=(ea, 0, 0), frames=50, scale=-1)\n",
    "mps.StressRateStep(components=(sa, sl, sl), frames=50)\n",
    "mps.StressRateStep(components=(sa, sl, sl), frames=50, scale=-1)"
   ]
  },
  {
   "cell_type": "markdown",
   "metadata": {},
   "source": [
    "The keyword `scale` is a scale factor applied to each of the components of `components`."
   ]
  },
  {
   "cell_type": "markdown",
   "metadata": {},
   "source": [
    "Two other factory methods allow defining components of the deformation gradient and displacement:\n",
    "\n",
    "- `MaterialPointSimulator.DefGradStep`: defines the components of the deformation gradient\n",
    "- `MaterialPointSimulator.DisplacementStep`: defines the components of displacement\n",
    "\n",
    "The `DefGradStep` method requires the nine components of the deformation gradient, arranged in row-major fashion.  The `DisplacementStep` method requires the three components of the displacement."
   ]
  },
  {
   "cell_type": "code",
   "execution_count": 10,
   "metadata": {
    "collapsed": true
   },
   "outputs": [],
   "source": [
    "fa = exp(ea)\n",
    "mps.DefGradStep(increment=1., components=((fa,0,0),(0,1,0),(0,0,1)))\n",
    "mps.DefGradStep(increment=1., components=((1,0,0),(0,1,0),(0,0,1)))"
   ]
  },
  {
   "cell_type": "markdown",
   "metadata": {},
   "source": [
    "<a name='model.run'></a>\n",
    "## Running the Model\n",
    "\n",
    "Deformation steps are run when they are created."
   ]
  },
  {
   "cell_type": "markdown",
   "metadata": {},
   "source": [
    "<a name='model.out'></a>\n",
    "## Model Outputs\n",
    "\n",
    "Model outputs computed by the `MaterialPointSimulator` are stored in the `records` object:"
   ]
  },
  {
   "cell_type": "code",
   "execution_count": 11,
   "metadata": {
    "collapsed": false
   },
   "outputs": [
    {
     "data": {
      "text/plain": [
       "['Step', 'Frame', 'Time', 'DTime', 'S', 'E', 'F', 'D', 'DS', 'EF', 'T']"
      ]
     },
     "execution_count": 11,
     "metadata": {},
     "output_type": "execute_result"
    }
   ],
   "source": [
    "mps.records.keys()"
   ]
  },
  {
   "cell_type": "markdown",
   "metadata": {},
   "source": [
    "Model outputs are stored as attributes to the `MaterialPointSimulator`.  For example, the components of stress throughout the history of the simulation is:"
   ]
  },
  {
   "cell_type": "code",
   "execution_count": 12,
   "metadata": {
    "collapsed": false
   },
   "outputs": [],
   "source": [
    "s = mps.S"
   ]
  },
  {
   "cell_type": "markdown",
   "metadata": {},
   "source": [
    "Individual components are also accessed by attribute:"
   ]
  },
  {
   "cell_type": "code",
   "execution_count": 13,
   "metadata": {
    "collapsed": false
   },
   "outputs": [],
   "source": [
    "sxx = mps.S.XX\n",
    "assert (amax(sxx) - sa) / amax(sxx) < 1e-8"
   ]
  },
  {
   "cell_type": "markdown",
   "metadata": {},
   "source": [
    "Equivalently, the `MaterialPointSimulator.get` method can retrieve components field outputs from the output database:"
   ]
  },
  {
   "cell_type": "code",
   "execution_count": 14,
   "metadata": {
    "collapsed": false
   },
   "outputs": [],
   "source": [
    "sxx_ = mps.get('S.XX')\n",
    "assert allclose(sxx_, sxx)"
   ]
  },
  {
   "cell_type": "markdown",
   "metadata": {},
   "source": [
    "<a name='model.view'></a>\n",
    "## Viewing Model Outputs\n",
    "\n",
    "Matmodlab leverages the `bokeh` and `matplotlib` plotting libraries for displaying model outputs.  By default, the `bokeh` library is loaded by the `%matmodlab` magic and `matplotlib` is loaded if `bokeh` cannot be found.  Optionally, `matplotlib` can be explicitly requested as the default plotting library by specifying \n",
    "\n",
    "```python\n",
    "    %matmodlab matplotlib\n",
    "```\n",
    "\n",
    "The simplest method of viewing model outputs is using the `MaterialPointSimulator.plot` method:"
   ]
  },
  {
   "cell_type": "code",
   "execution_count": 15,
   "metadata": {
    "collapsed": false
   },
   "outputs": [
    {
     "data": {
      "text/html": [
       "\n",
       "\n",
       "    <div class=\"bk-root\">\n",
       "        <div class=\"plotdiv\" id=\"5e0c4d50-d684-4633-9d0e-f23bbf2eb79f\"></div>\n",
       "    </div>\n",
       "<script type=\"text/javascript\">\n",
       "  \n",
       "  (function(global) {\n",
       "    function now() {\n",
       "      return new Date();\n",
       "    }\n",
       "  \n",
       "    var force = \"\";\n",
       "  \n",
       "    if (typeof (window._bokeh_onload_callbacks) === \"undefined\" || force !== \"\") {\n",
       "      window._bokeh_onload_callbacks = [];\n",
       "      window._bokeh_is_loading = undefined;\n",
       "    }\n",
       "  \n",
       "  \n",
       "    \n",
       "    if (typeof (window._bokeh_timeout) === \"undefined\" || force !== \"\") {\n",
       "      window._bokeh_timeout = Date.now() + 0;\n",
       "      window._bokeh_failed_load = false;\n",
       "    }\n",
       "  \n",
       "    var NB_LOAD_WARNING = {'data': {'text/html':\n",
       "       \"<div style='background-color: #fdd'>\\n\"+\n",
       "       \"<p>\\n\"+\n",
       "       \"BokehJS does not appear to have successfully loaded. If loading BokehJS from CDN, this \\n\"+\n",
       "       \"may be due to a slow or bad network connection. Possible fixes:\\n\"+\n",
       "       \"</p>\\n\"+\n",
       "       \"<ul>\\n\"+\n",
       "       \"<li>re-rerun `output_notebook()` to attempt to load from CDN again, or</li>\\n\"+\n",
       "       \"<li>use INLINE resources instead, as so:</li>\\n\"+\n",
       "       \"</ul>\\n\"+\n",
       "       \"<code>\\n\"+\n",
       "       \"from bokeh.resources import INLINE\\n\"+\n",
       "       \"output_notebook(resources=INLINE)\\n\"+\n",
       "       \"</code>\\n\"+\n",
       "       \"</div>\"}};\n",
       "  \n",
       "    function display_loaded() {\n",
       "      if (window.Bokeh !== undefined) {\n",
       "        Bokeh.$(\"#5e0c4d50-d684-4633-9d0e-f23bbf2eb79f\").text(\"BokehJS successfully loaded.\");\n",
       "      } else if (Date.now() < window._bokeh_timeout) {\n",
       "        setTimeout(display_loaded, 100)\n",
       "      }\n",
       "    }\n",
       "  \n",
       "    function run_callbacks() {\n",
       "      window._bokeh_onload_callbacks.forEach(function(callback) { callback() });\n",
       "      delete window._bokeh_onload_callbacks\n",
       "      console.info(\"Bokeh: all callbacks have finished\");\n",
       "    }\n",
       "  \n",
       "    function load_libs(js_urls, callback) {\n",
       "      window._bokeh_onload_callbacks.push(callback);\n",
       "      if (window._bokeh_is_loading > 0) {\n",
       "        console.log(\"Bokeh: BokehJS is being loaded, scheduling callback at\", now());\n",
       "        return null;\n",
       "      }\n",
       "      if (js_urls == null || js_urls.length === 0) {\n",
       "        run_callbacks();\n",
       "        return null;\n",
       "      }\n",
       "      console.log(\"Bokeh: BokehJS not loaded, scheduling load and callback at\", now());\n",
       "      window._bokeh_is_loading = js_urls.length;\n",
       "      for (var i = 0; i < js_urls.length; i++) {\n",
       "        var url = js_urls[i];\n",
       "        var s = document.createElement('script');\n",
       "        s.src = url;\n",
       "        s.async = false;\n",
       "        s.onreadystatechange = s.onload = function() {\n",
       "          window._bokeh_is_loading--;\n",
       "          if (window._bokeh_is_loading === 0) {\n",
       "            console.log(\"Bokeh: all BokehJS libraries loaded\");\n",
       "            run_callbacks()\n",
       "          }\n",
       "        };\n",
       "        s.onerror = function() {\n",
       "          console.warn(\"failed to load library \" + url);\n",
       "        };\n",
       "        console.log(\"Bokeh: injecting script tag for BokehJS library: \", url);\n",
       "        document.getElementsByTagName(\"head\")[0].appendChild(s);\n",
       "      }\n",
       "    };var element = document.getElementById(\"5e0c4d50-d684-4633-9d0e-f23bbf2eb79f\");\n",
       "    if (element == null) {\n",
       "      console.log(\"Bokeh: ERROR: autoload.js configured with elementid '5e0c4d50-d684-4633-9d0e-f23bbf2eb79f' but no matching script tag was found. \")\n",
       "      return false;\n",
       "    }\n",
       "  \n",
       "    var js_urls = [];\n",
       "  \n",
       "    var inline_js = [\n",
       "      function(Bokeh) {\n",
       "        Bokeh.$(function() {\n",
       "            var docs_json = {\"cde5fa57-7fb8-4e78-bd3d-8279c0f948fa\":{\"roots\":{\"references\":[{\"attributes\":{\"plot\":{\"id\":\"da97a724-0a51-456e-8c0b-efee9bb8a336\",\"subtype\":\"Figure\",\"type\":\"Plot\"},\"ticker\":{\"id\":\"915bd488-c3e8-4189-8eee-866fb8c13ae9\",\"type\":\"BasicTicker\"}},\"id\":\"87f7aa28-022c-48b3-999a-39c21e1b21f5\",\"type\":\"Grid\"},{\"attributes\":{\"dimension\":1,\"plot\":{\"id\":\"da97a724-0a51-456e-8c0b-efee9bb8a336\",\"subtype\":\"Figure\",\"type\":\"Plot\"},\"ticker\":{\"id\":\"5d25a4da-392a-484b-a25c-348460b729e9\",\"type\":\"BasicTicker\"}},\"id\":\"2f64caf8-da33-42ed-8f5f-ddf1b987893e\",\"type\":\"Grid\"},{\"attributes\":{\"plot\":null,\"text\":null},\"id\":\"c72e7662-91eb-4edb-9bc0-a37aa3e05283\",\"type\":\"Title\"},{\"attributes\":{},\"id\":\"5d25a4da-392a-484b-a25c-348460b729e9\",\"type\":\"BasicTicker\"},{\"attributes\":{},\"id\":\"8faeb60e-c3b8-437b-b3ff-4d48db6e10ae\",\"type\":\"ToolEvents\"},{\"attributes\":{\"callback\":null},\"id\":\"39b44482-7b77-4c7e-ad61-bf52ea16a144\",\"type\":\"DataRange1d\"},{\"attributes\":{},\"id\":\"fe22f6a0-471c-4f21-96ac-ae38886bb7ac\",\"type\":\"BasicTickFormatter\"},{\"attributes\":{\"plot\":{\"id\":\"da97a724-0a51-456e-8c0b-efee9bb8a336\",\"subtype\":\"Figure\",\"type\":\"Plot\"}},\"id\":\"747e617c-1c9d-4f51-9520-229c7f91d19a\",\"type\":\"SaveTool\"},{\"attributes\":{\"plot\":{\"id\":\"da97a724-0a51-456e-8c0b-efee9bb8a336\",\"subtype\":\"Figure\",\"type\":\"Plot\"}},\"id\":\"187b69e9-f799-4929-8c4b-e8bcf5495123\",\"type\":\"ResizeTool\"},{\"attributes\":{\"plot\":{\"id\":\"da97a724-0a51-456e-8c0b-efee9bb8a336\",\"subtype\":\"Figure\",\"type\":\"Plot\"}},\"id\":\"40764064-9b3b-4cd3-8f9c-bfaf2ecfaf4e\",\"type\":\"PanTool\"},{\"attributes\":{\"bottom_units\":\"screen\",\"fill_alpha\":{\"value\":0.5},\"fill_color\":{\"value\":\"lightgrey\"},\"left_units\":\"screen\",\"level\":\"overlay\",\"line_alpha\":{\"value\":1.0},\"line_color\":{\"value\":\"black\"},\"line_dash\":[4,4],\"line_width\":{\"value\":2},\"plot\":null,\"render_mode\":\"css\",\"right_units\":\"screen\",\"top_units\":\"screen\"},\"id\":\"f0f5905a-8ddc-4bf8-abf1-8120d4922a87\",\"type\":\"BoxAnnotation\"},{\"attributes\":{},\"id\":\"915bd488-c3e8-4189-8eee-866fb8c13ae9\",\"type\":\"BasicTicker\"},{\"attributes\":{\"overlay\":{\"id\":\"f0f5905a-8ddc-4bf8-abf1-8120d4922a87\",\"type\":\"BoxAnnotation\"},\"plot\":{\"id\":\"da97a724-0a51-456e-8c0b-efee9bb8a336\",\"subtype\":\"Figure\",\"type\":\"Plot\"}},\"id\":\"23a45ab9-7581-44c2-bdc7-95944cf66d14\",\"type\":\"BoxZoomTool\"},{\"attributes\":{\"plot\":{\"id\":\"da97a724-0a51-456e-8c0b-efee9bb8a336\",\"subtype\":\"Figure\",\"type\":\"Plot\"}},\"id\":\"d3687a43-1c6d-4af6-8dfc-9c18db8a9e64\",\"type\":\"ResetTool\"},{\"attributes\":{\"line_alpha\":{\"value\":0.1},\"line_color\":{\"value\":\"#1f77b4\"},\"x\":{\"field\":\"x\"},\"y\":{\"field\":\"y\"}},\"id\":\"4a9eea60-dc88-490e-a398-35607bdcbe11\",\"type\":\"Line\"},{\"attributes\":{\"data_source\":{\"id\":\"eb788b57-2fa7-4da0-8e1a-29c9917aa55c\",\"type\":\"ColumnDataSource\"},\"glyph\":{\"id\":\"17c3b1d2-6895-40c5-a9d9-c912c8d75a80\",\"type\":\"Line\"},\"hover_glyph\":null,\"nonselection_glyph\":{\"id\":\"4a9eea60-dc88-490e-a398-35607bdcbe11\",\"type\":\"Line\"},\"selection_glyph\":null},\"id\":\"12c687b9-db15-416b-9f30-4fc0b15c7cb6\",\"type\":\"GlyphRenderer\"},{\"attributes\":{\"active_drag\":\"auto\",\"active_scroll\":\"auto\",\"active_tap\":\"auto\",\"tools\":[{\"id\":\"187b69e9-f799-4929-8c4b-e8bcf5495123\",\"type\":\"ResizeTool\"},{\"id\":\"40764064-9b3b-4cd3-8f9c-bfaf2ecfaf4e\",\"type\":\"PanTool\"},{\"id\":\"2c432ba0-8737-4d38-911c-7ce66405847e\",\"type\":\"WheelZoomTool\"},{\"id\":\"23a45ab9-7581-44c2-bdc7-95944cf66d14\",\"type\":\"BoxZoomTool\"},{\"id\":\"d3687a43-1c6d-4af6-8dfc-9c18db8a9e64\",\"type\":\"ResetTool\"},{\"id\":\"747e617c-1c9d-4f51-9520-229c7f91d19a\",\"type\":\"SaveTool\"}]},\"id\":\"449fd3a5-4f91-48a8-9b7c-00ee8db296cf\",\"type\":\"Toolbar\"},{\"attributes\":{},\"id\":\"8266895f-87a3-4682-a339-85c8c75015df\",\"type\":\"BasicTickFormatter\"},{\"attributes\":{\"callback\":null},\"id\":\"5649126d-972e-4ab3-8e76-b18b5a273a67\",\"type\":\"DataRange1d\"},{\"attributes\":{\"below\":[{\"id\":\"c1f6ea6f-b2ae-432d-a382-bdff3c482eff\",\"type\":\"LinearAxis\"}],\"left\":[{\"id\":\"3de9c35d-ec8c-445a-8b81-e78eddd3112f\",\"type\":\"LinearAxis\"}],\"plot_height\":500,\"plot_width\":650,\"renderers\":[{\"id\":\"c1f6ea6f-b2ae-432d-a382-bdff3c482eff\",\"type\":\"LinearAxis\"},{\"id\":\"87f7aa28-022c-48b3-999a-39c21e1b21f5\",\"type\":\"Grid\"},{\"id\":\"3de9c35d-ec8c-445a-8b81-e78eddd3112f\",\"type\":\"LinearAxis\"},{\"id\":\"2f64caf8-da33-42ed-8f5f-ddf1b987893e\",\"type\":\"Grid\"},{\"id\":\"f0f5905a-8ddc-4bf8-abf1-8120d4922a87\",\"type\":\"BoxAnnotation\"},{\"id\":\"12c687b9-db15-416b-9f30-4fc0b15c7cb6\",\"type\":\"GlyphRenderer\"}],\"title\":{\"id\":\"c72e7662-91eb-4edb-9bc0-a37aa3e05283\",\"type\":\"Title\"},\"tool_events\":{\"id\":\"8faeb60e-c3b8-437b-b3ff-4d48db6e10ae\",\"type\":\"ToolEvents\"},\"toolbar\":{\"id\":\"449fd3a5-4f91-48a8-9b7c-00ee8db296cf\",\"type\":\"Toolbar\"},\"x_range\":{\"id\":\"39b44482-7b77-4c7e-ad61-bf52ea16a144\",\"type\":\"DataRange1d\"},\"y_range\":{\"id\":\"5649126d-972e-4ab3-8e76-b18b5a273a67\",\"type\":\"DataRange1d\"}},\"id\":\"da97a724-0a51-456e-8c0b-efee9bb8a336\",\"subtype\":\"Figure\",\"type\":\"Plot\"},{\"attributes\":{\"plot\":{\"id\":\"da97a724-0a51-456e-8c0b-efee9bb8a336\",\"subtype\":\"Figure\",\"type\":\"Plot\"}},\"id\":\"2c432ba0-8737-4d38-911c-7ce66405847e\",\"type\":\"WheelZoomTool\"},{\"attributes\":{\"axis_label\":\"E.XX\",\"formatter\":{\"id\":\"8266895f-87a3-4682-a339-85c8c75015df\",\"type\":\"BasicTickFormatter\"},\"plot\":{\"id\":\"da97a724-0a51-456e-8c0b-efee9bb8a336\",\"subtype\":\"Figure\",\"type\":\"Plot\"},\"ticker\":{\"id\":\"5d25a4da-392a-484b-a25c-348460b729e9\",\"type\":\"BasicTicker\"}},\"id\":\"3de9c35d-ec8c-445a-8b81-e78eddd3112f\",\"type\":\"LinearAxis\"},{\"attributes\":{\"line_color\":{\"value\":\"#1f77b4\"},\"x\":{\"field\":\"x\"},\"y\":{\"field\":\"y\"}},\"id\":\"17c3b1d2-6895-40c5-a9d9-c912c8d75a80\",\"type\":\"Line\"},{\"attributes\":{\"axis_label\":\"Time\",\"formatter\":{\"id\":\"fe22f6a0-471c-4f21-96ac-ae38886bb7ac\",\"type\":\"BasicTickFormatter\"},\"plot\":{\"id\":\"da97a724-0a51-456e-8c0b-efee9bb8a336\",\"subtype\":\"Figure\",\"type\":\"Plot\"},\"ticker\":{\"id\":\"915bd488-c3e8-4189-8eee-866fb8c13ae9\",\"type\":\"BasicTicker\"}},\"id\":\"c1f6ea6f-b2ae-432d-a382-bdff3c482eff\",\"type\":\"LinearAxis\"},{\"attributes\":{\"callback\":null,\"column_names\":[\"y\",\"x\"],\"data\":{\"x\":[0.0,1.0,2.0,2.0199999809265137,2.0399999618530273,2.059999942779541,2.0799999237060547,2.0999999046325684,2.119999885559082,2.140000104904175,2.1600000858306885,2.180000066757202,2.200000047683716,2.2200000286102295,2.240000009536743,2.259999990463257,2.2799999713897705,2.299999952316284,2.319999933242798,2.3399999141693115,2.359999895095825,2.380000114440918,2.4000000953674316,2.4200000762939453,2.440000057220459,2.4600000381469727,2.4800000190734863,2.5,2.5199999809265137,2.5399999618530273,2.559999942779541,2.5799999237060547,2.5999999046325684,2.619999885559082,2.640000104904175,2.6600000858306885,2.680000066757202,2.700000047683716,2.7200000286102295,2.740000009536743,2.759999990463257,2.7799999713897705,2.799999952316284,2.819999933242798,2.8399999141693115,2.859999895095825,2.880000114440918,2.9000000953674316,2.9200000762939453,2.940000057220459,2.9600000381469727,2.9800000190734863,3.0,3.0199999809265137,3.0399999618530273,3.059999942779541,3.0799999237060547,3.0999999046325684,3.119999885559082,3.140000104904175,3.1600000858306885,3.180000066757202,3.200000047683716,3.2200000286102295,3.240000009536743,3.259999990463257,3.2799999713897705,3.299999952316284,3.319999933242798,3.3399999141693115,3.359999895095825,3.380000114440918,3.4000000953674316,3.4200000762939453,3.440000057220459,3.4600000381469727,3.4800000190734863,3.5,3.5199999809265137,3.5399999618530273,3.559999942779541,3.5799999237060547,3.5999999046325684,3.619999885559082,3.640000104904175,3.6600000858306885,3.680000066757202,3.700000047683716,3.7200000286102295,3.740000009536743,3.759999990463257,3.7799999713897705,3.799999952316284,3.819999933242798,3.8399999141693115,3.859999895095825,3.880000114440918,3.9000000953674316,3.9200000762939453,3.940000057220459,3.9600000381469727,3.9800000190734863,4.0,4.019999980926514,4.039999961853027,4.059999942779541,4.079999923706055,4.099999904632568,4.119999885559082,4.139999866485596,4.159999847412109,4.179999828338623,4.199999809265137,4.21999979019165,4.239999771118164,4.260000228881836,4.28000020980835,4.300000190734863,4.320000171661377,4.340000152587891,4.360000133514404,4.380000114440918,4.400000095367432,4.420000076293945,4.440000057220459,4.460000038146973,4.480000019073486,4.5,4.519999980926514,4.539999961853027,4.559999942779541,4.579999923706055,4.599999904632568,4.619999885559082,4.639999866485596,4.659999847412109,4.679999828338623,4.699999809265137,4.71999979019165,4.739999771118164,4.760000228881836,4.78000020980835,4.800000190734863,4.820000171661377,4.840000152587891,4.860000133514404,4.880000114440918,4.900000095367432,4.920000076293945,4.940000057220459,4.960000038146973,4.980000019073486,5.0,5.019999980926514,5.039999961853027,5.059999942779541,5.079999923706055,5.099999904632568,5.119999885559082,5.139999866485596,5.159999847412109,5.179999828338623,5.199999809265137,5.21999979019165,5.239999771118164,5.260000228881836,5.28000020980835,5.300000190734863,5.320000171661377,5.340000152587891,5.360000133514404,5.380000114440918,5.400000095367432,5.420000076293945,5.440000057220459,5.460000038146973,5.480000019073486,5.5,5.519999980926514,5.539999961853027,5.559999942779541,5.579999923706055,5.599999904632568,5.619999885559082,5.639999866485596,5.659999847412109,5.679999828338623,5.699999809265137,5.71999979019165,5.739999771118164,5.760000228881836,5.78000020980835,5.800000190734863,5.820000171661377,5.840000152587891,5.860000133514404,5.880000114440918,5.900000095367432,5.920000076293945,5.940000057220459,5.960000038146973,5.980000019073486,6.0,6.019999980926514,6.039999961853027,6.059999942779541,6.079999923706055,6.099999904632568,6.119999885559082,6.139999866485596,6.159999847412109,6.179999828338623,6.199999809265137,6.21999979019165,6.239999771118164,6.260000228881836,6.28000020980835,6.300000190734863,6.320000171661377,6.340000152587891,6.360000133514404,6.380000114440918,6.400000095367432,6.420000076293945,6.440000057220459,6.460000038146973,6.480000019073486,6.5,6.519999980926514,6.539999961853027,6.559999942779541,6.579999923706055,6.599999904632568,6.619999885559082,6.639999866485596,6.659999847412109,6.679999828338623,6.699999809265137,6.71999979019165,6.739999771118164,6.760000228881836,6.78000020980835,6.800000190734863,6.820000171661377,6.840000152587891,6.860000133514404,6.880000114440918,6.900000095367432,6.920000076293945,6.940000057220459,6.960000038146973,6.980000019073486,7.0,7.019999980926514,7.039999961853027,7.059999942779541,7.079999923706055,7.099999904632568,7.119999885559082,7.139999866485596,7.159999847412109,7.179999828338623,7.199999809265137,7.21999979019165,7.239999771118164,7.260000228881836,7.28000020980835,7.300000190734863,7.320000171661377,7.340000152587891,7.360000133514404,7.380000114440918,7.400000095367432,7.420000076293945,7.440000057220459,7.460000038146973,7.480000019073486,7.5,7.519999980926514,7.539999961853027,7.559999942779541,7.579999923706055,7.599999904632568,7.619999885559082,7.639999866485596,7.659999847412109,7.679999828338623,7.699999809265137,7.71999979019165,7.739999771118164,7.760000228881836,7.78000020980835,7.800000190734863,7.820000171661377,7.840000152587891,7.860000133514404,7.880000114440918,7.900000095367432,7.920000076293945,7.940000057220459,7.960000038146973,7.980000019073486,8.0,8.020000457763672,8.039999961853027,8.0600004196167,8.079999923706055,8.100000381469727,8.119999885559082,8.140000343322754,8.15999984741211,8.180000305175781,8.199999809265137,8.220000267028809,8.239999771118164,8.260000228881836,8.279999732971191,8.300000190734863,8.319999694824219,8.34000015258789,8.359999656677246,8.380000114440918,8.399999618530273,8.420000076293945,8.4399995803833,8.460000038146973,8.479999542236328,8.5,8.520000457763672,8.539999961853027,8.5600004196167,8.579999923706055,8.600000381469727,8.619999885559082,8.640000343322754,8.65999984741211,8.680000305175781,8.699999809265137,8.720000267028809,8.739999771118164,8.760000228881836,8.779999732971191,8.800000190734863,8.819999694824219,8.84000015258789,8.859999656677246,8.880000114440918,8.899999618530273,8.920000076293945,8.9399995803833,8.960000038146973,8.979999542236328,9.0,9.020000457763672,9.039999961853027,9.0600004196167,9.079999923706055,9.100000381469727,9.119999885559082,9.140000343322754,9.15999984741211,9.180000305175781,9.199999809265137,9.220000267028809,9.239999771118164,9.260000228881836,9.279999732971191,9.300000190734863,9.319999694824219,9.34000015258789,9.359999656677246,9.380000114440918,9.399999618530273,9.420000076293945,9.4399995803833,9.460000038146973,9.479999542236328,9.5,9.520000457763672,9.539999961853027,9.5600004196167,9.579999923706055,9.600000381469727,9.619999885559082,9.640000343322754,9.65999984741211,9.680000305175781,9.699999809265137,9.720000267028809,9.739999771118164,9.760000228881836,9.779999732971191,9.800000190734863,9.819999694824219,9.84000015258789,9.859999656677246,9.880000114440918,9.899999618530273,9.920000076293945,9.9399995803833,9.960000038146973,9.979999542236328,10.0,11.0,12.0],\"y\":[0.0,0.10000000149011612,0.0,0.0020000000949949026,0.004000000189989805,0.006000000052154064,0.00800000037997961,0.009999999776482582,0.012000000104308128,0.014000000432133675,0.01600000075995922,0.017999999225139618,0.019999999552965164,0.02199999988079071,0.024000000208616257,0.026000000536441803,0.02800000086426735,0.029999999329447746,0.03200000151991844,0.03400000184774399,0.035999998450279236,0.03799999877810478,0.03999999910593033,0.041999999433755875,0.04399999976158142,0.04600000008940697,0.04800000041723251,0.05000000074505806,0.052000001072883606,0.05400000140070915,0.0560000017285347,0.057999998331069946,0.05999999865889549,0.06199999898672104,0.06400000303983688,0.06599999964237213,0.06800000369548798,0.07000000029802322,0.07199999690055847,0.07400000095367432,0.07599999755620956,0.07800000160932541,0.07999999821186066,0.0820000022649765,0.08399999886751175,0.0860000029206276,0.08799999952316284,0.09000000357627869,0.09200000017881393,0.09399999678134918,0.09600000083446503,0.09799999743700027,0.10000000149011612,0.09799999743700027,0.09600000083446503,0.09399999678134918,0.09200000017881393,0.09000000357627869,0.08799999952316284,0.0860000029206276,0.08399999886751175,0.0820000022649765,0.07999999821186066,0.07800000160932541,0.07599999755620956,0.07400000095367432,0.07199999690055847,0.07000000029802322,0.06800000369548798,0.06599999964237213,0.06400000303983688,0.06199999898672104,0.05999999865889549,0.057999998331069946,0.0560000017285347,0.05400000140070915,0.052000001072883606,0.05000000074505806,0.04800000041723251,0.04600000008940697,0.04399999976158142,0.041999999433755875,0.03999999910593033,0.03799999877810478,0.035999998450279236,0.03400000184774399,0.03200000151991844,0.029999999329447746,0.02800000086426735,0.026000000536441803,0.024000000208616257,0.02199999988079071,0.019999999552965164,0.017999999225139618,0.01600000075995922,0.014000000432133675,0.012000000104308128,0.009999999776482582,0.00800000037997961,0.006000000052154064,0.004000000189989805,0.0020000000949949026,2.220446049250313e-15,0.0020000000949949026,0.004000000189989805,0.006000000052154064,0.00800000037997961,0.009999999776482582,0.012000000104308128,0.014000000432133675,0.01600000075995922,0.017999999225139618,0.019999999552965164,0.02199999988079071,0.024000000208616257,0.026000000536441803,0.02800000086426735,0.029999999329447746,0.03200000151991844,0.03400000184774399,0.035999998450279236,0.03799999877810478,0.03999999910593033,0.041999999433755875,0.04399999976158142,0.04600000008940697,0.04800000041723251,0.05000000074505806,0.052000001072883606,0.05400000140070915,0.0560000017285347,0.057999998331069946,0.05999999865889549,0.06199999898672104,0.06400000303983688,0.06599999964237213,0.06800000369548798,0.07000000029802322,0.07199999690055847,0.07400000095367432,0.07599999755620956,0.07800000160932541,0.07999999821186066,0.0820000022649765,0.08399999886751175,0.0860000029206276,0.08799999952316284,0.09000000357627869,0.09200000017881393,0.09399999678134918,0.09600000083446503,0.09799999743700027,0.10000000149011612,0.09799999743700027,0.09600000083446503,0.09399999678134918,0.09200000017881393,0.09000000357627869,0.08799999952316284,0.0860000029206276,0.08399999886751175,0.0820000022649765,0.07999999821186066,0.07800000160932541,0.07599999755620956,0.07400000095367432,0.07199999690055847,0.07000000029802322,0.06800000369548798,0.06599999964237213,0.06400000303983688,0.06199999898672104,0.05999999865889549,0.057999998331069946,0.0560000017285347,0.05400000140070915,0.052000001072883606,0.05000000074505806,0.04800000041723251,0.04600000008940697,0.04399999976158142,0.041999999433755875,0.03999999910593033,0.03799999877810478,0.035999998450279236,0.03400000184774399,0.03200000151991844,0.029999999329447746,0.02800000086426735,0.026000000536441803,0.024000000208616257,0.02199999988079071,0.019999999552965164,0.017999999225139618,0.01600000075995922,0.014000000432133675,0.012000000104308128,0.009999999776482582,0.00800000037997961,0.006000000052154064,0.004000000189989805,0.0020000000949949026,0.0,0.0020000000949949026,0.004000000189989805,0.006000000052154064,0.00800000037997961,0.009999999776482582,0.012000000104308128,0.014000000432133675,0.01600000075995922,0.017999999225139618,0.019999999552965164,0.02199999988079071,0.024000000208616257,0.026000000536441803,0.02800000086426735,0.029999999329447746,0.03200000151991844,0.03400000184774399,0.035999998450279236,0.03799999877810478,0.03999999910593033,0.041999999433755875,0.04399999976158142,0.04600000008940697,0.04800000041723251,0.05000000074505806,0.052000001072883606,0.05400000140070915,0.0560000017285347,0.057999998331069946,0.05999999865889549,0.06199999898672104,0.06400000303983688,0.06599999964237213,0.06800000369548798,0.07000000029802322,0.07199999690055847,0.07400000095367432,0.07599999755620956,0.07800000160932541,0.07999999821186066,0.0820000022649765,0.08399999886751175,0.0860000029206276,0.08799999952316284,0.09000000357627869,0.09200000017881393,0.09399999678134918,0.09600000083446503,0.09799999743700027,0.10000000149011612,0.09799999743700027,0.09600000083446503,0.09399999678134918,0.09200000017881393,0.09000000357627869,0.08799999952316284,0.0860000029206276,0.08399999886751175,0.0820000022649765,0.07999999821186066,0.07800000160932541,0.07599999755620956,0.07400000095367432,0.07199999690055847,0.07000000029802322,0.06800000369548798,0.06599999964237213,0.06400000303983688,0.06199999898672104,0.05999999865889549,0.057999998331069946,0.0560000017285347,0.05400000140070915,0.052000001072883606,0.05000000074505806,0.04800000041723251,0.04600000008940697,0.04399999976158142,0.041999999433755875,0.03999999910593033,0.03799999877810478,0.035999998450279236,0.03400000184774399,0.03200000151991844,0.029999999329447746,0.02800000086426735,0.026000000536441803,0.024000000208616257,0.02199999988079071,0.019999999552965164,0.017999999225139618,0.01600000075995922,0.014000000432133675,0.012000000104308128,0.009999999776482582,0.00800000037997961,0.006000000052154064,0.004000000189989805,0.0020000000949949026,0.0,0.0020000000949949026,0.004000000189989805,0.006000000052154064,0.00800000037997961,0.009999999776482582,0.012000000104308128,0.014000000432133675,0.01600000075995922,0.017999999225139618,0.019999999552965164,0.02199999988079071,0.024000000208616257,0.026000000536441803,0.02800000086426735,0.029999999329447746,0.03200000151991844,0.03400000184774399,0.035999998450279236,0.03799999877810478,0.03999999910593033,0.041999999433755875,0.04399999976158142,0.04600000008940697,0.04800000041723251,0.05000000074505806,0.052000001072883606,0.05400000140070915,0.0560000017285347,0.057999998331069946,0.05999999865889549,0.06199999898672104,0.06400000303983688,0.06599999964237213,0.06800000369548798,0.07000000029802322,0.07199999690055847,0.07400000095367432,0.07599999755620956,0.07800000160932541,0.07999999821186066,0.0820000022649765,0.08399999886751175,0.0860000029206276,0.08799999952316284,0.09000000357627869,0.09200000017881393,0.09399999678134918,0.09600000083446503,0.09799999743700027,0.10000000149011612,0.09799999743700027,0.09600000083446503,0.09399999678134918,0.09200000017881393,0.09000000357627869,0.08799999952316284,0.0860000029206276,0.08399999886751175,0.0820000022649765,0.07999999821186066,0.07800000160932541,0.07599999755620956,0.07400000095367432,0.07199999690055847,0.07000000029802322,0.06800000369548798,0.06599999964237213,0.06400000303983688,0.06199999898672104,0.05999999865889549,0.057999998331069946,0.0560000017285347,0.05400000140070915,0.052000001072883606,0.05000000074505806,0.04800000041723251,0.04600000008940697,0.04399999976158142,0.041999999433755875,0.03999999910593033,0.03799999877810478,0.035999998450279236,0.03400000184774399,0.03200000151991844,0.029999999329447746,0.02800000086426735,0.026000000536441803,0.024000000208616257,0.02199999988079071,0.019999999552965164,0.017999999225139618,0.01600000075995922,0.014000000432133675,0.012000000104308128,0.009999999776482582,0.00800000037997961,0.006000000052154064,0.004000000189989805,0.0020000000949949026,-1.3322676295501878e-15,0.10000000149011612,0.0]}},\"id\":\"eb788b57-2fa7-4da0-8e1a-29c9917aa55c\",\"type\":\"ColumnDataSource\"}],\"root_ids\":[\"da97a724-0a51-456e-8c0b-efee9bb8a336\"]},\"title\":\"Bokeh Application\",\"version\":\"0.12.2\"}};\n",
       "            var render_items = [{\"docid\":\"cde5fa57-7fb8-4e78-bd3d-8279c0f948fa\",\"elementid\":\"5e0c4d50-d684-4633-9d0e-f23bbf2eb79f\",\"modelid\":\"da97a724-0a51-456e-8c0b-efee9bb8a336\"}];\n",
       "            \n",
       "            Bokeh.embed.embed_items(docs_json, render_items);\n",
       "        });\n",
       "      },\n",
       "      function(Bokeh) {\n",
       "      }\n",
       "    ];\n",
       "  \n",
       "    function run_inline_js() {\n",
       "      \n",
       "      if ((window.Bokeh !== undefined) || (force === \"1\")) {\n",
       "        for (var i = 0; i < inline_js.length; i++) {\n",
       "          inline_js[i](window.Bokeh);\n",
       "        }if (force === \"1\") {\n",
       "          display_loaded();\n",
       "        }} else if (Date.now() < window._bokeh_timeout) {\n",
       "        setTimeout(run_inline_js, 100);\n",
       "      } else if (!window._bokeh_failed_load) {\n",
       "        console.log(\"Bokeh: BokehJS failed to load within specified timeout.\");\n",
       "        window._bokeh_failed_load = true;\n",
       "      } else if (!force) {\n",
       "        var cell = $(\"#5e0c4d50-d684-4633-9d0e-f23bbf2eb79f\").parents('.cell').data().cell;\n",
       "        cell.output_area.append_execute_result(NB_LOAD_WARNING)\n",
       "      }\n",
       "  \n",
       "    }\n",
       "  \n",
       "    if (window._bokeh_is_loading === 0) {\n",
       "      console.log(\"Bokeh: BokehJS loaded, going straight to plotting\");\n",
       "      run_inline_js();\n",
       "    } else {\n",
       "      load_libs(js_urls, function() {\n",
       "        console.log(\"Bokeh: BokehJS plotting callback run at\", now());\n",
       "        run_inline_js();\n",
       "      });\n",
       "    }\n",
       "  }(this));\n",
       "</script>"
      ]
     },
     "metadata": {},
     "output_type": "display_data"
    }
   ],
   "source": [
    "p = mps.plot('Time', 'E.XX')\n",
    "show(p);"
   ]
  },
  {
   "cell_type": "markdown",
   "metadata": {},
   "source": [
    "`MaterialPointSimulator.plot` takes as string arguments the `x` and `y` `MaterialPointSimulator` attributes to plot.  Incidentally (and as expected) the plot shows that axial compoent of strain was cycled from 0-10% strain through a variety of deformation steps. "
   ]
  },
  {
   "cell_type": "markdown",
   "metadata": {},
   "source": [
    "Greater flexibility in plotting can be obtained by generating a `plot` object and directly plotting variables of interest"
   ]
  },
  {
   "cell_type": "code",
   "execution_count": 16,
   "metadata": {
    "collapsed": false
   },
   "outputs": [
    {
     "data": {
      "text/html": [
       "\n",
       "\n",
       "    <div class=\"bk-root\">\n",
       "        <div class=\"plotdiv\" id=\"2013a7a9-9084-4943-a8ca-3cc3ab974f88\"></div>\n",
       "    </div>\n",
       "<script type=\"text/javascript\">\n",
       "  \n",
       "  (function(global) {\n",
       "    function now() {\n",
       "      return new Date();\n",
       "    }\n",
       "  \n",
       "    var force = \"\";\n",
       "  \n",
       "    if (typeof (window._bokeh_onload_callbacks) === \"undefined\" || force !== \"\") {\n",
       "      window._bokeh_onload_callbacks = [];\n",
       "      window._bokeh_is_loading = undefined;\n",
       "    }\n",
       "  \n",
       "  \n",
       "    \n",
       "    if (typeof (window._bokeh_timeout) === \"undefined\" || force !== \"\") {\n",
       "      window._bokeh_timeout = Date.now() + 0;\n",
       "      window._bokeh_failed_load = false;\n",
       "    }\n",
       "  \n",
       "    var NB_LOAD_WARNING = {'data': {'text/html':\n",
       "       \"<div style='background-color: #fdd'>\\n\"+\n",
       "       \"<p>\\n\"+\n",
       "       \"BokehJS does not appear to have successfully loaded. If loading BokehJS from CDN, this \\n\"+\n",
       "       \"may be due to a slow or bad network connection. Possible fixes:\\n\"+\n",
       "       \"</p>\\n\"+\n",
       "       \"<ul>\\n\"+\n",
       "       \"<li>re-rerun `output_notebook()` to attempt to load from CDN again, or</li>\\n\"+\n",
       "       \"<li>use INLINE resources instead, as so:</li>\\n\"+\n",
       "       \"</ul>\\n\"+\n",
       "       \"<code>\\n\"+\n",
       "       \"from bokeh.resources import INLINE\\n\"+\n",
       "       \"output_notebook(resources=INLINE)\\n\"+\n",
       "       \"</code>\\n\"+\n",
       "       \"</div>\"}};\n",
       "  \n",
       "    function display_loaded() {\n",
       "      if (window.Bokeh !== undefined) {\n",
       "        Bokeh.$(\"#2013a7a9-9084-4943-a8ca-3cc3ab974f88\").text(\"BokehJS successfully loaded.\");\n",
       "      } else if (Date.now() < window._bokeh_timeout) {\n",
       "        setTimeout(display_loaded, 100)\n",
       "      }\n",
       "    }\n",
       "  \n",
       "    function run_callbacks() {\n",
       "      window._bokeh_onload_callbacks.forEach(function(callback) { callback() });\n",
       "      delete window._bokeh_onload_callbacks\n",
       "      console.info(\"Bokeh: all callbacks have finished\");\n",
       "    }\n",
       "  \n",
       "    function load_libs(js_urls, callback) {\n",
       "      window._bokeh_onload_callbacks.push(callback);\n",
       "      if (window._bokeh_is_loading > 0) {\n",
       "        console.log(\"Bokeh: BokehJS is being loaded, scheduling callback at\", now());\n",
       "        return null;\n",
       "      }\n",
       "      if (js_urls == null || js_urls.length === 0) {\n",
       "        run_callbacks();\n",
       "        return null;\n",
       "      }\n",
       "      console.log(\"Bokeh: BokehJS not loaded, scheduling load and callback at\", now());\n",
       "      window._bokeh_is_loading = js_urls.length;\n",
       "      for (var i = 0; i < js_urls.length; i++) {\n",
       "        var url = js_urls[i];\n",
       "        var s = document.createElement('script');\n",
       "        s.src = url;\n",
       "        s.async = false;\n",
       "        s.onreadystatechange = s.onload = function() {\n",
       "          window._bokeh_is_loading--;\n",
       "          if (window._bokeh_is_loading === 0) {\n",
       "            console.log(\"Bokeh: all BokehJS libraries loaded\");\n",
       "            run_callbacks()\n",
       "          }\n",
       "        };\n",
       "        s.onerror = function() {\n",
       "          console.warn(\"failed to load library \" + url);\n",
       "        };\n",
       "        console.log(\"Bokeh: injecting script tag for BokehJS library: \", url);\n",
       "        document.getElementsByTagName(\"head\")[0].appendChild(s);\n",
       "      }\n",
       "    };var element = document.getElementById(\"2013a7a9-9084-4943-a8ca-3cc3ab974f88\");\n",
       "    if (element == null) {\n",
       "      console.log(\"Bokeh: ERROR: autoload.js configured with elementid '2013a7a9-9084-4943-a8ca-3cc3ab974f88' but no matching script tag was found. \")\n",
       "      return false;\n",
       "    }\n",
       "  \n",
       "    var js_urls = [];\n",
       "  \n",
       "    var inline_js = [\n",
       "      function(Bokeh) {\n",
       "        Bokeh.$(function() {\n",
       "            var docs_json = {\"3d5dd533-2e53-4a8c-a81f-76d19d3fef37\":{\"roots\":{\"references\":[{\"attributes\":{\"plot\":{\"id\":\"5708a6a8-9000-48c6-a1b0-f2d936620dac\",\"subtype\":\"Figure\",\"type\":\"Plot\"}},\"id\":\"13bc00d8-ee98-42a1-8799-d401211a9095\",\"type\":\"ResizeTool\"},{\"attributes\":{\"plot\":{\"id\":\"5708a6a8-9000-48c6-a1b0-f2d936620dac\",\"subtype\":\"Figure\",\"type\":\"Plot\"}},\"id\":\"5776f6a0-653f-402a-b9d5-e6f3dc838b34\",\"type\":\"PanTool\"},{\"attributes\":{},\"id\":\"95dcc26b-0caa-42cb-8ad1-1743b9f935eb\",\"type\":\"BasicTicker\"},{\"attributes\":{\"axis_label\":\"Time\",\"formatter\":{\"id\":\"acc1b8fd-e3d4-48d2-b573-06b651d9f20d\",\"type\":\"BasicTickFormatter\"},\"plot\":{\"id\":\"5708a6a8-9000-48c6-a1b0-f2d936620dac\",\"subtype\":\"Figure\",\"type\":\"Plot\"},\"ticker\":{\"id\":\"95dcc26b-0caa-42cb-8ad1-1743b9f935eb\",\"type\":\"BasicTicker\"}},\"id\":\"880ba0fe-c441-4d62-b3f6-8ca460134ab0\",\"type\":\"LinearAxis\"},{\"attributes\":{\"data_source\":{\"id\":\"972ff230-0e53-4faf-8fd6-51b1c64e641e\",\"type\":\"ColumnDataSource\"},\"glyph\":{\"id\":\"5c20f386-6b62-4b25-9899-85480a0ac281\",\"type\":\"Line\"},\"hover_glyph\":null,\"nonselection_glyph\":{\"id\":\"ad69406d-401f-424f-bf43-f500d9818cbe\",\"type\":\"Line\"},\"selection_glyph\":null},\"id\":\"134a60a5-0cc5-439d-a29e-ab0c246215f7\",\"type\":\"GlyphRenderer\"},{\"attributes\":{\"data_source\":{\"id\":\"f33c95cc-2546-4593-88e1-4876ffd687cd\",\"type\":\"ColumnDataSource\"},\"glyph\":{\"id\":\"51c4fbb5-0674-4c4c-a3d0-79cc73480013\",\"type\":\"Line\"},\"hover_glyph\":null,\"nonselection_glyph\":{\"id\":\"0a52e53e-92c8-49dd-8fcf-98b9f2ca3833\",\"type\":\"Line\"},\"selection_glyph\":null},\"id\":\"fa4cabdd-8516-4b19-a810-b5957b07ef45\",\"type\":\"GlyphRenderer\"},{\"attributes\":{\"plot\":{\"id\":\"5708a6a8-9000-48c6-a1b0-f2d936620dac\",\"subtype\":\"Figure\",\"type\":\"Plot\"},\"ticker\":{\"id\":\"95dcc26b-0caa-42cb-8ad1-1743b9f935eb\",\"type\":\"BasicTicker\"}},\"id\":\"e615c3ca-bc1d-4ed0-ab14-aed3e9b9d869\",\"type\":\"Grid\"},{\"attributes\":{\"bottom_units\":\"screen\",\"fill_alpha\":{\"value\":0.5},\"fill_color\":{\"value\":\"lightgrey\"},\"left_units\":\"screen\",\"level\":\"overlay\",\"line_alpha\":{\"value\":1.0},\"line_color\":{\"value\":\"black\"},\"line_dash\":[4,4],\"line_width\":{\"value\":2},\"plot\":null,\"render_mode\":\"css\",\"right_units\":\"screen\",\"top_units\":\"screen\"},\"id\":\"0be0b02e-5fc8-4948-a83c-05a1d03dbf44\",\"type\":\"BoxAnnotation\"},{\"attributes\":{\"callback\":null},\"id\":\"c4703d38-db5b-4aeb-83c8-3cebecf2ed68\",\"type\":\"DataRange1d\"},{\"attributes\":{\"dimension\":1,\"plot\":{\"id\":\"5708a6a8-9000-48c6-a1b0-f2d936620dac\",\"subtype\":\"Figure\",\"type\":\"Plot\"},\"ticker\":{\"id\":\"f8ba42b3-122c-491d-8177-5a8822a742ce\",\"type\":\"BasicTicker\"}},\"id\":\"00ead83d-ef1f-4b8a-af8e-741af31e14f2\",\"type\":\"Grid\"},{\"attributes\":{\"active_drag\":\"auto\",\"active_scroll\":\"auto\",\"active_tap\":\"auto\",\"tools\":[{\"id\":\"13bc00d8-ee98-42a1-8799-d401211a9095\",\"type\":\"ResizeTool\"},{\"id\":\"5776f6a0-653f-402a-b9d5-e6f3dc838b34\",\"type\":\"PanTool\"},{\"id\":\"5ac2210e-d00a-42e2-8919-eea7e740ddd5\",\"type\":\"WheelZoomTool\"},{\"id\":\"7e410b69-13d6-4333-9a87-1b4067b8c7d5\",\"type\":\"BoxZoomTool\"},{\"id\":\"ee3e591b-39bf-4ef5-bb15-31d23bc9ddac\",\"type\":\"ResetTool\"},{\"id\":\"054dc849-e2b5-4afa-9b09-eacc17ff9dff\",\"type\":\"SaveTool\"}]},\"id\":\"87d5f018-271d-49c0-a394-82b55bb6b36e\",\"type\":\"Toolbar\"},{\"attributes\":{\"callback\":null,\"column_names\":[\"y\",\"x\"],\"data\":{\"x\":[0.0,1.0,2.0,2.0199999809265137,2.0399999618530273,2.059999942779541,2.0799999237060547,2.0999999046325684,2.119999885559082,2.140000104904175,2.1600000858306885,2.180000066757202,2.200000047683716,2.2200000286102295,2.240000009536743,2.259999990463257,2.2799999713897705,2.299999952316284,2.319999933242798,2.3399999141693115,2.359999895095825,2.380000114440918,2.4000000953674316,2.4200000762939453,2.440000057220459,2.4600000381469727,2.4800000190734863,2.5,2.5199999809265137,2.5399999618530273,2.559999942779541,2.5799999237060547,2.5999999046325684,2.619999885559082,2.640000104904175,2.6600000858306885,2.680000066757202,2.700000047683716,2.7200000286102295,2.740000009536743,2.759999990463257,2.7799999713897705,2.799999952316284,2.819999933242798,2.8399999141693115,2.859999895095825,2.880000114440918,2.9000000953674316,2.9200000762939453,2.940000057220459,2.9600000381469727,2.9800000190734863,3.0,3.0199999809265137,3.0399999618530273,3.059999942779541,3.0799999237060547,3.0999999046325684,3.119999885559082,3.140000104904175,3.1600000858306885,3.180000066757202,3.200000047683716,3.2200000286102295,3.240000009536743,3.259999990463257,3.2799999713897705,3.299999952316284,3.319999933242798,3.3399999141693115,3.359999895095825,3.380000114440918,3.4000000953674316,3.4200000762939453,3.440000057220459,3.4600000381469727,3.4800000190734863,3.5,3.5199999809265137,3.5399999618530273,3.559999942779541,3.5799999237060547,3.5999999046325684,3.619999885559082,3.640000104904175,3.6600000858306885,3.680000066757202,3.700000047683716,3.7200000286102295,3.740000009536743,3.759999990463257,3.7799999713897705,3.799999952316284,3.819999933242798,3.8399999141693115,3.859999895095825,3.880000114440918,3.9000000953674316,3.9200000762939453,3.940000057220459,3.9600000381469727,3.9800000190734863,4.0,4.019999980926514,4.039999961853027,4.059999942779541,4.079999923706055,4.099999904632568,4.119999885559082,4.139999866485596,4.159999847412109,4.179999828338623,4.199999809265137,4.21999979019165,4.239999771118164,4.260000228881836,4.28000020980835,4.300000190734863,4.320000171661377,4.340000152587891,4.360000133514404,4.380000114440918,4.400000095367432,4.420000076293945,4.440000057220459,4.460000038146973,4.480000019073486,4.5,4.519999980926514,4.539999961853027,4.559999942779541,4.579999923706055,4.599999904632568,4.619999885559082,4.639999866485596,4.659999847412109,4.679999828338623,4.699999809265137,4.71999979019165,4.739999771118164,4.760000228881836,4.78000020980835,4.800000190734863,4.820000171661377,4.840000152587891,4.860000133514404,4.880000114440918,4.900000095367432,4.920000076293945,4.940000057220459,4.960000038146973,4.980000019073486,5.0,5.019999980926514,5.039999961853027,5.059999942779541,5.079999923706055,5.099999904632568,5.119999885559082,5.139999866485596,5.159999847412109,5.179999828338623,5.199999809265137,5.21999979019165,5.239999771118164,5.260000228881836,5.28000020980835,5.300000190734863,5.320000171661377,5.340000152587891,5.360000133514404,5.380000114440918,5.400000095367432,5.420000076293945,5.440000057220459,5.460000038146973,5.480000019073486,5.5,5.519999980926514,5.539999961853027,5.559999942779541,5.579999923706055,5.599999904632568,5.619999885559082,5.639999866485596,5.659999847412109,5.679999828338623,5.699999809265137,5.71999979019165,5.739999771118164,5.760000228881836,5.78000020980835,5.800000190734863,5.820000171661377,5.840000152587891,5.860000133514404,5.880000114440918,5.900000095367432,5.920000076293945,5.940000057220459,5.960000038146973,5.980000019073486,6.0,6.019999980926514,6.039999961853027,6.059999942779541,6.079999923706055,6.099999904632568,6.119999885559082,6.139999866485596,6.159999847412109,6.179999828338623,6.199999809265137,6.21999979019165,6.239999771118164,6.260000228881836,6.28000020980835,6.300000190734863,6.320000171661377,6.340000152587891,6.360000133514404,6.380000114440918,6.400000095367432,6.420000076293945,6.440000057220459,6.460000038146973,6.480000019073486,6.5,6.519999980926514,6.539999961853027,6.559999942779541,6.579999923706055,6.599999904632568,6.619999885559082,6.639999866485596,6.659999847412109,6.679999828338623,6.699999809265137,6.71999979019165,6.739999771118164,6.760000228881836,6.78000020980835,6.800000190734863,6.820000171661377,6.840000152587891,6.860000133514404,6.880000114440918,6.900000095367432,6.920000076293945,6.940000057220459,6.960000038146973,6.980000019073486,7.0,7.019999980926514,7.039999961853027,7.059999942779541,7.079999923706055,7.099999904632568,7.119999885559082,7.139999866485596,7.159999847412109,7.179999828338623,7.199999809265137,7.21999979019165,7.239999771118164,7.260000228881836,7.28000020980835,7.300000190734863,7.320000171661377,7.340000152587891,7.360000133514404,7.380000114440918,7.400000095367432,7.420000076293945,7.440000057220459,7.460000038146973,7.480000019073486,7.5,7.519999980926514,7.539999961853027,7.559999942779541,7.579999923706055,7.599999904632568,7.619999885559082,7.639999866485596,7.659999847412109,7.679999828338623,7.699999809265137,7.71999979019165,7.739999771118164,7.760000228881836,7.78000020980835,7.800000190734863,7.820000171661377,7.840000152587891,7.860000133514404,7.880000114440918,7.900000095367432,7.920000076293945,7.940000057220459,7.960000038146973,7.980000019073486,8.0,8.020000457763672,8.039999961853027,8.0600004196167,8.079999923706055,8.100000381469727,8.119999885559082,8.140000343322754,8.15999984741211,8.180000305175781,8.199999809265137,8.220000267028809,8.239999771118164,8.260000228881836,8.279999732971191,8.300000190734863,8.319999694824219,8.34000015258789,8.359999656677246,8.380000114440918,8.399999618530273,8.420000076293945,8.4399995803833,8.460000038146973,8.479999542236328,8.5,8.520000457763672,8.539999961853027,8.5600004196167,8.579999923706055,8.600000381469727,8.619999885559082,8.640000343322754,8.65999984741211,8.680000305175781,8.699999809265137,8.720000267028809,8.739999771118164,8.760000228881836,8.779999732971191,8.800000190734863,8.819999694824219,8.84000015258789,8.859999656677246,8.880000114440918,8.899999618530273,8.920000076293945,8.9399995803833,8.960000038146973,8.979999542236328,9.0,9.020000457763672,9.039999961853027,9.0600004196167,9.079999923706055,9.100000381469727,9.119999885559082,9.140000343322754,9.15999984741211,9.180000305175781,9.199999809265137,9.220000267028809,9.239999771118164,9.260000228881836,9.279999732971191,9.300000190734863,9.319999694824219,9.34000015258789,9.359999656677246,9.380000114440918,9.399999618530273,9.420000076293945,9.4399995803833,9.460000038146973,9.479999542236328,9.5,9.520000457763672,9.539999961853027,9.5600004196167,9.579999923706055,9.600000381469727,9.619999885559082,9.640000343322754,9.65999984741211,9.680000305175781,9.699999809265137,9.720000267028809,9.739999771118164,9.760000228881836,9.779999732971191,9.800000190734863,9.819999694824219,9.84000015258789,9.859999656677246,9.880000114440918,9.899999618530273,9.920000076293945,9.9399995803833,9.960000038146973,9.979999542236328,10.0,11.0,12.0],\"y\":[0.0,9466667008.0,0.0,189333328.0,378666656.0,568000000.0,757333312.0,946666688.0,1136000000.0,1325333376.0,1514666624.0,1704000000.0,1893333376.0,2082666624.0,2272000000.0,2461333248.0,2650666752.0,2840000000.0,3029333248.0,3218666752.0,3408000000.0,3597333248.0,3786666752.0,3976000000.0,4165333248.0,4354666496.0,4544000000.0,4733333504.0,4922666496.0,5112000000.0,5301333504.0,5490666496.0,5680000000.0,5869333504.0,6058666496.0,6248000000.0,6437333504.0,6626666496.0,6816000000.0,7005333504.0,7194666496.0,7384000000.0,7573333504.0,7762666496.0,7952000000.0,8141333504.0,8330666496.0,8520000000.0,8709332992.0,8898666496.0,9088000000.0,9277333504.0,9466667008.0,9277333504.0,9088000000.0,8898666496.0,8709332992.0,8520000000.0,8330666496.0,8141333504.0,7952000000.0,7762666496.0,7573333504.0,7384000000.0,7194666496.0,7005333504.0,6816000000.0,6626666496.0,6437333504.0,6248000000.0,6058666496.0,5869333504.0,5680000000.0,5490666496.0,5301333504.0,5112000000.0,4922666496.0,4733333504.0,4544000000.0,4354666496.0,4165333248.0,3976000000.0,3786666752.0,3597333248.0,3408000000.0,3218666752.0,3029333248.0,2840000000.0,2650666752.0,2461333248.0,2272000000.0,2082666624.0,1893333376.0,1704000000.0,1514666624.0,1325333376.0,1136000000.0,946666688.0,757333312.0,568000000.0,378666656.0,189333328.0,0.0,189333328.0,378666656.0,568000000.0,757333312.0,946666688.0,1136000000.0,1325333376.0,1514666624.0,1704000000.0,1893333376.0,2082666624.0,2272000000.0,2461333248.0,2650666752.0,2840000000.0,3029333248.0,3218666752.0,3408000000.0,3597333248.0,3786666752.0,3976000000.0,4165333248.0,4354666496.0,4544000000.0,4733333504.0,4922666496.0,5112000000.0,5301333504.0,5490666496.0,5680000000.0,5869333504.0,6058666496.0,6248000000.0,6437333504.0,6626666496.0,6816000000.0,7005333504.0,7194666496.0,7384000000.0,7573333504.0,7762666496.0,7952000000.0,8141333504.0,8330666496.0,8520000000.0,8709332992.0,8898666496.0,9088000000.0,9277333504.0,9466667008.0,9277333504.0,9088000000.0,8898666496.0,8709332992.0,8520000000.0,8330666496.0,8141333504.0,7952000000.0,7762666496.0,7573333504.0,7384000000.0,7194666496.0,7005333504.0,6816000000.0,6626666496.0,6437333504.0,6248000000.0,6058666496.0,5869333504.0,5680000000.0,5490666496.0,5301333504.0,5112000000.0,4922666496.0,4733333504.0,4544000000.0,4354666496.0,4165333248.0,3976000000.0,3786666752.0,3597333248.0,3408000000.0,3218666752.0,3029333248.0,2840000000.0,2650666752.0,2461333248.0,2272000000.0,2082666624.0,1893333376.0,1704000000.0,1514666624.0,1325333376.0,1136000000.0,946666688.0,757333312.0,568000000.0,378666656.0,189333328.0,0.0,189333328.0,378666656.0,568000000.0,757333312.0,946666688.0,1136000000.0,1325333376.0,1514666624.0,1704000000.0,1893333376.0,2082666624.0,2272000000.0,2461333248.0,2650666752.0,2840000000.0,3029333248.0,3218666752.0,3408000000.0,3597333248.0,3786666752.0,3976000000.0,4165333248.0,4354666496.0,4544000000.0,4733333504.0,4922666496.0,5112000000.0,5301333504.0,5490666496.0,5680000000.0,5869333504.0,6058666496.0,6248000000.0,6437333504.0,6626666496.0,6816000000.0,7005333504.0,7194666496.0,7384000000.0,7573333504.0,7762666496.0,7952000000.0,8141333504.0,8330666496.0,8520000000.0,8709332992.0,8898666496.0,9088000000.0,9277333504.0,9466667008.0,9277333504.0,9088000000.0,8898666496.0,8709332992.0,8520000000.0,8330666496.0,8141333504.0,7952000000.0,7762666496.0,7573333504.0,7384000000.0,7194666496.0,7005333504.0,6816000000.0,6626666496.0,6437333504.0,6248000000.0,6058666496.0,5869333504.0,5680000000.0,5490666496.0,5301333504.0,5112000000.0,4922666496.0,4733333504.0,4544000000.0,4354666496.0,4165333248.0,3976000000.0,3786666752.0,3597333248.0,3408000000.0,3218666752.0,3029333248.0,2840000000.0,2650666752.0,2461333248.0,2272000000.0,2082666624.0,1893333376.0,1704000000.0,1514666624.0,1325333376.0,1136000000.0,946666688.0,757333312.0,568000000.0,378666656.0,189333328.0,1.1920928955078125e-06,189333328.0,378666656.0,568000000.0,757333312.0,946666688.0,1136000000.0,1325333376.0,1514666624.0,1704000000.0,1893333376.0,2082666624.0,2272000000.0,2461333248.0,2650666752.0,2840000000.0,3029333248.0,3218666752.0,3408000000.0,3597333248.0,3786666752.0,3976000000.0,4165333248.0,4354666496.0,4544000000.0,4733333504.0,4922666496.0,5112000000.0,5301333504.0,5490666496.0,5680000000.0,5869333504.0,6058666496.0,6248000000.0,6437333504.0,6626666496.0,6816000000.0,7005333504.0,7194666496.0,7384000000.0,7573333504.0,7762666496.0,7952000000.0,8141333504.0,8330666496.0,8520000000.0,8709332992.0,8898666496.0,9088000000.0,9277333504.0,9466667008.0,9277333504.0,9088000000.0,8898666496.0,8709332992.0,8520000000.0,8330666496.0,8141333504.0,7952000000.0,7762666496.0,7573333504.0,7384000000.0,7194666496.0,7005333504.0,6816000000.0,6626666496.0,6437333504.0,6248000000.0,6058666496.0,5869333504.0,5680000000.0,5490666496.0,5301333504.0,5112000000.0,4922666496.0,4733333504.0,4544000000.0,4354666496.0,4165333248.0,3976000000.0,3786666752.0,3597333248.0,3408000000.0,3218666752.0,3029333248.0,2840000000.0,2650666752.0,2461333248.0,2272000000.0,2082666624.0,1893333376.0,1704000000.0,1514666624.0,1325333376.0,1136000000.0,946666688.0,757333312.0,568000000.0,378666656.0,189333328.0,1.9073486328125e-06,9466667008.0,0.0001277923583984375]}},\"id\":\"f33c95cc-2546-4593-88e1-4876ffd687cd\",\"type\":\"ColumnDataSource\"},{\"attributes\":{\"line_alpha\":{\"value\":0.1},\"line_color\":{\"value\":\"#1f77b4\"},\"x\":{\"field\":\"x\"},\"y\":{\"field\":\"y\"}},\"id\":\"0a52e53e-92c8-49dd-8fcf-98b9f2ca3833\",\"type\":\"Line\"},{\"attributes\":{},\"id\":\"f8ba42b3-122c-491d-8177-5a8822a742ce\",\"type\":\"BasicTicker\"},{\"attributes\":{},\"id\":\"3f6216c9-e24d-48c6-8549-237cc6793062\",\"type\":\"ToolEvents\"},{\"attributes\":{\"plot\":{\"id\":\"5708a6a8-9000-48c6-a1b0-f2d936620dac\",\"subtype\":\"Figure\",\"type\":\"Plot\"}},\"id\":\"054dc849-e2b5-4afa-9b09-eacc17ff9dff\",\"type\":\"SaveTool\"},{\"attributes\":{\"line_color\":{\"value\":\"blue\"},\"x\":{\"field\":\"x\"},\"y\":{\"field\":\"y\"}},\"id\":\"5c20f386-6b62-4b25-9899-85480a0ac281\",\"type\":\"Line\"},{\"attributes\":{\"overlay\":{\"id\":\"0be0b02e-5fc8-4948-a83c-05a1d03dbf44\",\"type\":\"BoxAnnotation\"},\"plot\":{\"id\":\"5708a6a8-9000-48c6-a1b0-f2d936620dac\",\"subtype\":\"Figure\",\"type\":\"Plot\"}},\"id\":\"7e410b69-13d6-4333-9a87-1b4067b8c7d5\",\"type\":\"BoxZoomTool\"},{\"attributes\":{\"below\":[{\"id\":\"880ba0fe-c441-4d62-b3f6-8ca460134ab0\",\"type\":\"LinearAxis\"}],\"left\":[{\"id\":\"35b29630-e5dd-44cf-82d1-64183db0ab3c\",\"type\":\"LinearAxis\"}],\"renderers\":[{\"id\":\"880ba0fe-c441-4d62-b3f6-8ca460134ab0\",\"type\":\"LinearAxis\"},{\"id\":\"e615c3ca-bc1d-4ed0-ab14-aed3e9b9d869\",\"type\":\"Grid\"},{\"id\":\"35b29630-e5dd-44cf-82d1-64183db0ab3c\",\"type\":\"LinearAxis\"},{\"id\":\"00ead83d-ef1f-4b8a-af8e-741af31e14f2\",\"type\":\"Grid\"},{\"id\":\"0be0b02e-5fc8-4948-a83c-05a1d03dbf44\",\"type\":\"BoxAnnotation\"},{\"id\":\"134a60a5-0cc5-439d-a29e-ab0c246215f7\",\"type\":\"GlyphRenderer\"},{\"id\":\"fa4cabdd-8516-4b19-a810-b5957b07ef45\",\"type\":\"GlyphRenderer\"}],\"title\":{\"id\":\"faf12149-7e2e-4716-8c16-8224c920bb98\",\"type\":\"Title\"},\"tool_events\":{\"id\":\"3f6216c9-e24d-48c6-8549-237cc6793062\",\"type\":\"ToolEvents\"},\"toolbar\":{\"id\":\"87d5f018-271d-49c0-a394-82b55bb6b36e\",\"type\":\"Toolbar\"},\"x_range\":{\"id\":\"c4703d38-db5b-4aeb-83c8-3cebecf2ed68\",\"type\":\"DataRange1d\"},\"y_range\":{\"id\":\"ad0cde2b-82e5-48d2-b4b6-9a9b8d5c2ad1\",\"type\":\"DataRange1d\"}},\"id\":\"5708a6a8-9000-48c6-a1b0-f2d936620dac\",\"subtype\":\"Figure\",\"type\":\"Plot\"},{\"attributes\":{\"callback\":null,\"column_names\":[\"y\",\"x\"],\"data\":{\"x\":[0.0,1.0,2.0,2.0199999809265137,2.0399999618530273,2.059999942779541,2.0799999237060547,2.0999999046325684,2.119999885559082,2.140000104904175,2.1600000858306885,2.180000066757202,2.200000047683716,2.2200000286102295,2.240000009536743,2.259999990463257,2.2799999713897705,2.299999952316284,2.319999933242798,2.3399999141693115,2.359999895095825,2.380000114440918,2.4000000953674316,2.4200000762939453,2.440000057220459,2.4600000381469727,2.4800000190734863,2.5,2.5199999809265137,2.5399999618530273,2.559999942779541,2.5799999237060547,2.5999999046325684,2.619999885559082,2.640000104904175,2.6600000858306885,2.680000066757202,2.700000047683716,2.7200000286102295,2.740000009536743,2.759999990463257,2.7799999713897705,2.799999952316284,2.819999933242798,2.8399999141693115,2.859999895095825,2.880000114440918,2.9000000953674316,2.9200000762939453,2.940000057220459,2.9600000381469727,2.9800000190734863,3.0,3.0199999809265137,3.0399999618530273,3.059999942779541,3.0799999237060547,3.0999999046325684,3.119999885559082,3.140000104904175,3.1600000858306885,3.180000066757202,3.200000047683716,3.2200000286102295,3.240000009536743,3.259999990463257,3.2799999713897705,3.299999952316284,3.319999933242798,3.3399999141693115,3.359999895095825,3.380000114440918,3.4000000953674316,3.4200000762939453,3.440000057220459,3.4600000381469727,3.4800000190734863,3.5,3.5199999809265137,3.5399999618530273,3.559999942779541,3.5799999237060547,3.5999999046325684,3.619999885559082,3.640000104904175,3.6600000858306885,3.680000066757202,3.700000047683716,3.7200000286102295,3.740000009536743,3.759999990463257,3.7799999713897705,3.799999952316284,3.819999933242798,3.8399999141693115,3.859999895095825,3.880000114440918,3.9000000953674316,3.9200000762939453,3.940000057220459,3.9600000381469727,3.9800000190734863,4.0,4.019999980926514,4.039999961853027,4.059999942779541,4.079999923706055,4.099999904632568,4.119999885559082,4.139999866485596,4.159999847412109,4.179999828338623,4.199999809265137,4.21999979019165,4.239999771118164,4.260000228881836,4.28000020980835,4.300000190734863,4.320000171661377,4.340000152587891,4.360000133514404,4.380000114440918,4.400000095367432,4.420000076293945,4.440000057220459,4.460000038146973,4.480000019073486,4.5,4.519999980926514,4.539999961853027,4.559999942779541,4.579999923706055,4.599999904632568,4.619999885559082,4.639999866485596,4.659999847412109,4.679999828338623,4.699999809265137,4.71999979019165,4.739999771118164,4.760000228881836,4.78000020980835,4.800000190734863,4.820000171661377,4.840000152587891,4.860000133514404,4.880000114440918,4.900000095367432,4.920000076293945,4.940000057220459,4.960000038146973,4.980000019073486,5.0,5.019999980926514,5.039999961853027,5.059999942779541,5.079999923706055,5.099999904632568,5.119999885559082,5.139999866485596,5.159999847412109,5.179999828338623,5.199999809265137,5.21999979019165,5.239999771118164,5.260000228881836,5.28000020980835,5.300000190734863,5.320000171661377,5.340000152587891,5.360000133514404,5.380000114440918,5.400000095367432,5.420000076293945,5.440000057220459,5.460000038146973,5.480000019073486,5.5,5.519999980926514,5.539999961853027,5.559999942779541,5.579999923706055,5.599999904632568,5.619999885559082,5.639999866485596,5.659999847412109,5.679999828338623,5.699999809265137,5.71999979019165,5.739999771118164,5.760000228881836,5.78000020980835,5.800000190734863,5.820000171661377,5.840000152587891,5.860000133514404,5.880000114440918,5.900000095367432,5.920000076293945,5.940000057220459,5.960000038146973,5.980000019073486,6.0,6.019999980926514,6.039999961853027,6.059999942779541,6.079999923706055,6.099999904632568,6.119999885559082,6.139999866485596,6.159999847412109,6.179999828338623,6.199999809265137,6.21999979019165,6.239999771118164,6.260000228881836,6.28000020980835,6.300000190734863,6.320000171661377,6.340000152587891,6.360000133514404,6.380000114440918,6.400000095367432,6.420000076293945,6.440000057220459,6.460000038146973,6.480000019073486,6.5,6.519999980926514,6.539999961853027,6.559999942779541,6.579999923706055,6.599999904632568,6.619999885559082,6.639999866485596,6.659999847412109,6.679999828338623,6.699999809265137,6.71999979019165,6.739999771118164,6.760000228881836,6.78000020980835,6.800000190734863,6.820000171661377,6.840000152587891,6.860000133514404,6.880000114440918,6.900000095367432,6.920000076293945,6.940000057220459,6.960000038146973,6.980000019073486,7.0,7.019999980926514,7.039999961853027,7.059999942779541,7.079999923706055,7.099999904632568,7.119999885559082,7.139999866485596,7.159999847412109,7.179999828338623,7.199999809265137,7.21999979019165,7.239999771118164,7.260000228881836,7.28000020980835,7.300000190734863,7.320000171661377,7.340000152587891,7.360000133514404,7.380000114440918,7.400000095367432,7.420000076293945,7.440000057220459,7.460000038146973,7.480000019073486,7.5,7.519999980926514,7.539999961853027,7.559999942779541,7.579999923706055,7.599999904632568,7.619999885559082,7.639999866485596,7.659999847412109,7.679999828338623,7.699999809265137,7.71999979019165,7.739999771118164,7.760000228881836,7.78000020980835,7.800000190734863,7.820000171661377,7.840000152587891,7.860000133514404,7.880000114440918,7.900000095367432,7.920000076293945,7.940000057220459,7.960000038146973,7.980000019073486,8.0,8.020000457763672,8.039999961853027,8.0600004196167,8.079999923706055,8.100000381469727,8.119999885559082,8.140000343322754,8.15999984741211,8.180000305175781,8.199999809265137,8.220000267028809,8.239999771118164,8.260000228881836,8.279999732971191,8.300000190734863,8.319999694824219,8.34000015258789,8.359999656677246,8.380000114440918,8.399999618530273,8.420000076293945,8.4399995803833,8.460000038146973,8.479999542236328,8.5,8.520000457763672,8.539999961853027,8.5600004196167,8.579999923706055,8.600000381469727,8.619999885559082,8.640000343322754,8.65999984741211,8.680000305175781,8.699999809265137,8.720000267028809,8.739999771118164,8.760000228881836,8.779999732971191,8.800000190734863,8.819999694824219,8.84000015258789,8.859999656677246,8.880000114440918,8.899999618530273,8.920000076293945,8.9399995803833,8.960000038146973,8.979999542236328,9.0,9.020000457763672,9.039999961853027,9.0600004196167,9.079999923706055,9.100000381469727,9.119999885559082,9.140000343322754,9.15999984741211,9.180000305175781,9.199999809265137,9.220000267028809,9.239999771118164,9.260000228881836,9.279999732971191,9.300000190734863,9.319999694824219,9.34000015258789,9.359999656677246,9.380000114440918,9.399999618530273,9.420000076293945,9.4399995803833,9.460000038146973,9.479999542236328,9.5,9.520000457763672,9.539999961853027,9.5600004196167,9.579999923706055,9.600000381469727,9.619999885559082,9.640000343322754,9.65999984741211,9.680000305175781,9.699999809265137,9.720000267028809,9.739999771118164,9.760000228881836,9.779999732971191,9.800000190734863,9.819999694824219,9.84000015258789,9.859999656677246,9.880000114440918,9.899999618530273,9.920000076293945,9.9399995803833,9.960000038146973,9.979999542236328,10.0,11.0,12.0],\"y\":[0.0,20066666496.0,0.0,401333344.0,802666688.0,1204000000.0,1605333376.0,2006666624.0,2408000000.0,2809333248.0,3210666752.0,3612000000.0,4013333248.0,4414666752.0,4816000000.0,5217333248.0,5618666496.0,6019999744.0,6421333504.0,6822666752.0,7224000000.0,7625333248.0,8026666496.0,8428000256.0,8829333504.0,9230666752.0,9632000000.0,10033333248.0,10434666496.0,10835999744.0,11237332992.0,11638666240.0,12039999488.0,12441333760.0,12842667008.0,13244000256.0,13645333504.0,14046666752.0,14448000000.0,14849333248.0,15250666496.0,15651999744.0,16053332992.0,16454666240.0,16856000512.0,17257332736.0,17658667008.0,18059999232.0,18461333504.0,18862665728.0,19264000000.0,19665334272.0,20066666496.0,19665334272.0,19264000000.0,18862665728.0,18461333504.0,18059999232.0,17658667008.0,17257332736.0,16856000512.0,16454666240.0,16053332992.0,15651999744.0,15250666496.0,14849333248.0,14448000000.0,14046666752.0,13645333504.0,13244000256.0,12842667008.0,12441333760.0,12039999488.0,11638666240.0,11237332992.0,10835999744.0,10434666496.0,10033333248.0,9632000000.0,9230666752.0,8829333504.0,8428000256.0,8026666496.0,7625333248.0,7224000000.0,6822666752.0,6421333504.0,6019999744.0,5618666496.0,5217333248.0,4816000000.0,4414666752.0,4013333248.0,3612000000.0,3210666752.0,2809333248.0,2408000000.0,2006666624.0,1605333376.0,1204000000.0,802666688.0,401333344.0,0.0,401333344.0,802666688.0,1204000000.0,1605333376.0,2006666624.0,2408000000.0,2809333248.0,3210666752.0,3612000000.0,4013333248.0,4414666752.0,4816000000.0,5217333248.0,5618666496.0,6019999744.0,6421333504.0,6822666752.0,7224000000.0,7625333248.0,8026666496.0,8427999744.0,8829333504.0,9230666752.0,9632000000.0,10033333248.0,10434666496.0,10835999744.0,11237332992.0,11638666240.0,12039999488.0,12441333760.0,12842667008.0,13244000256.0,13645333504.0,14046666752.0,14448000000.0,14849333248.0,15250666496.0,15651999744.0,16053332992.0,16454666240.0,16855999488.0,17257332736.0,17658667008.0,18059999232.0,18461333504.0,18862665728.0,19264000000.0,19665334272.0,20066666496.0,19665334272.0,19264000000.0,18862665728.0,18461333504.0,18059999232.0,17658667008.0,17257332736.0,16855999488.0,16454666240.0,16053332992.0,15651999744.0,15250666496.0,14849333248.0,14448000000.0,14046666752.0,13645333504.0,13244000256.0,12842667008.0,12441333760.0,12039999488.0,11638666240.0,11237332992.0,10835999744.0,10434666496.0,10033333248.0,9632000000.0,9230666752.0,8829333504.0,8427999744.0,8026666496.0,7625333248.0,7224000000.0,6822666752.0,6421333504.0,6019999744.0,5618666496.0,5217333248.0,4816000000.0,4414666752.0,4013333248.0,3612000000.0,3210666752.0,2809333248.0,2408000000.0,2006666624.0,1605333376.0,1204000000.0,802666688.0,401333344.0,-0.0003489255905151367,401333344.0,802666688.0,1204000000.0,1605333376.0,2006666624.0,2408000000.0,2809333248.0,3210666752.0,3612000000.0,4013333248.0,4414666752.0,4816000000.0,5217333248.0,5618666496.0,6019999744.0,6421333504.0,6822666752.0,7224000000.0,7625333248.0,8026666496.0,8427999744.0,8829333504.0,9230666752.0,9632000000.0,10033333248.0,10434666496.0,10835999744.0,11237332992.0,11638666240.0,12039999488.0,12441333760.0,12842667008.0,13244000256.0,13645333504.0,14046666752.0,14448000000.0,14849333248.0,15250666496.0,15651999744.0,16053332992.0,16454666240.0,16855999488.0,17257332736.0,17658667008.0,18059999232.0,18461333504.0,18862665728.0,19264000000.0,19665334272.0,20066666496.0,19665334272.0,19264000000.0,18862665728.0,18461333504.0,18059999232.0,17658667008.0,17257332736.0,16855999488.0,16454666240.0,16053332992.0,15651999744.0,15250666496.0,14849333248.0,14448000000.0,14046666752.0,13645333504.0,13244000256.0,12842667008.0,12441333760.0,12039999488.0,11638666240.0,11237332992.0,10835999744.0,10434666496.0,10033333248.0,9632000000.0,9230666752.0,8829333504.0,8427999744.0,8026666496.0,7625333248.0,7224000000.0,6822666752.0,6421333504.0,6019999744.0,5618666496.0,5217333248.0,4816000000.0,4414666752.0,4013333248.0,3612000000.0,3210666752.0,2809333248.0,2408000000.0,2006666624.0,1605333376.0,1204000000.0,802666688.0,401333344.0,-0.0003484487533569336,401333344.0,802666688.0,1204000000.0,1605333376.0,2006666624.0,2408000000.0,2809333248.0,3210666752.0,3612000000.0,4013333248.0,4414666752.0,4816000000.0,5217333248.0,5618666496.0,6019999744.0,6421333504.0,6822666752.0,7224000000.0,7625333248.0,8026666496.0,8427999744.0,8829333504.0,9230666752.0,9632000000.0,10033333248.0,10434666496.0,10835999744.0,11237332992.0,11638666240.0,12039999488.0,12441333760.0,12842667008.0,13244000256.0,13645333504.0,14046666752.0,14448000000.0,14849333248.0,15250666496.0,15651999744.0,16053332992.0,16454666240.0,16855999488.0,17257332736.0,17658667008.0,18059999232.0,18461333504.0,18862665728.0,19264000000.0,19665334272.0,20066666496.0,19665334272.0,19264000000.0,18862665728.0,18461333504.0,18059999232.0,17658667008.0,17257332736.0,16855999488.0,16454666240.0,16053332992.0,15651999744.0,15250666496.0,14849333248.0,14448000000.0,14046666752.0,13645333504.0,13244000256.0,12842667008.0,12441333760.0,12039999488.0,11638666240.0,11237332992.0,10835999744.0,10434666496.0,10033333248.0,9632000000.0,9230666752.0,8829333504.0,8427999744.0,8026666496.0,7625333248.0,7224000000.0,6822666752.0,6421333504.0,6019999744.0,5618666496.0,5217333248.0,4816000000.0,4414666752.0,4013333248.0,3612000000.0,3210666752.0,2809333248.0,2408000000.0,2006666624.0,1605333376.0,1204000000.0,802666688.0,401333344.0,-0.000347137451171875,20066666496.0,-8.0108642578125e-05]}},\"id\":\"972ff230-0e53-4faf-8fd6-51b1c64e641e\",\"type\":\"ColumnDataSource\"},{\"attributes\":{\"axis_label\":\"Stress\",\"formatter\":{\"id\":\"a3da4833-c8a1-4f7e-8e8e-2689a8b47d41\",\"type\":\"BasicTickFormatter\"},\"plot\":{\"id\":\"5708a6a8-9000-48c6-a1b0-f2d936620dac\",\"subtype\":\"Figure\",\"type\":\"Plot\"},\"ticker\":{\"id\":\"f8ba42b3-122c-491d-8177-5a8822a742ce\",\"type\":\"BasicTicker\"}},\"id\":\"35b29630-e5dd-44cf-82d1-64183db0ab3c\",\"type\":\"LinearAxis\"},{\"attributes\":{},\"id\":\"a3da4833-c8a1-4f7e-8e8e-2689a8b47d41\",\"type\":\"BasicTickFormatter\"},{\"attributes\":{\"plot\":{\"id\":\"5708a6a8-9000-48c6-a1b0-f2d936620dac\",\"subtype\":\"Figure\",\"type\":\"Plot\"}},\"id\":\"ee3e591b-39bf-4ef5-bb15-31d23bc9ddac\",\"type\":\"ResetTool\"},{\"attributes\":{\"line_color\":{\"value\":\"red\"},\"x\":{\"field\":\"x\"},\"y\":{\"field\":\"y\"}},\"id\":\"51c4fbb5-0674-4c4c-a3d0-79cc73480013\",\"type\":\"Line\"},{\"attributes\":{\"plot\":{\"id\":\"5708a6a8-9000-48c6-a1b0-f2d936620dac\",\"subtype\":\"Figure\",\"type\":\"Plot\"}},\"id\":\"5ac2210e-d00a-42e2-8919-eea7e740ddd5\",\"type\":\"WheelZoomTool\"},{\"attributes\":{\"plot\":null,\"text\":null},\"id\":\"faf12149-7e2e-4716-8c16-8224c920bb98\",\"type\":\"Title\"},{\"attributes\":{\"callback\":null},\"id\":\"ad0cde2b-82e5-48d2-b4b6-9a9b8d5c2ad1\",\"type\":\"DataRange1d\"},{\"attributes\":{},\"id\":\"acc1b8fd-e3d4-48d2-b573-06b651d9f20d\",\"type\":\"BasicTickFormatter\"},{\"attributes\":{\"line_alpha\":{\"value\":0.1},\"line_color\":{\"value\":\"#1f77b4\"},\"x\":{\"field\":\"x\"},\"y\":{\"field\":\"y\"}},\"id\":\"ad69406d-401f-424f-bf43-f500d9818cbe\",\"type\":\"Line\"}],\"root_ids\":[\"5708a6a8-9000-48c6-a1b0-f2d936620dac\"]},\"title\":\"Bokeh Application\",\"version\":\"0.12.2\"}};\n",
       "            var render_items = [{\"docid\":\"3d5dd533-2e53-4a8c-a81f-76d19d3fef37\",\"elementid\":\"2013a7a9-9084-4943-a8ca-3cc3ab974f88\",\"modelid\":\"5708a6a8-9000-48c6-a1b0-f2d936620dac\"}];\n",
       "            \n",
       "            Bokeh.embed.embed_items(docs_json, render_items);\n",
       "        });\n",
       "      },\n",
       "      function(Bokeh) {\n",
       "      }\n",
       "    ];\n",
       "  \n",
       "    function run_inline_js() {\n",
       "      \n",
       "      if ((window.Bokeh !== undefined) || (force === \"1\")) {\n",
       "        for (var i = 0; i < inline_js.length; i++) {\n",
       "          inline_js[i](window.Bokeh);\n",
       "        }if (force === \"1\") {\n",
       "          display_loaded();\n",
       "        }} else if (Date.now() < window._bokeh_timeout) {\n",
       "        setTimeout(run_inline_js, 100);\n",
       "      } else if (!window._bokeh_failed_load) {\n",
       "        console.log(\"Bokeh: BokehJS failed to load within specified timeout.\");\n",
       "        window._bokeh_failed_load = true;\n",
       "      } else if (!force) {\n",
       "        var cell = $(\"#2013a7a9-9084-4943-a8ca-3cc3ab974f88\").parents('.cell').data().cell;\n",
       "        cell.output_area.append_execute_result(NB_LOAD_WARNING)\n",
       "      }\n",
       "  \n",
       "    }\n",
       "  \n",
       "    if (window._bokeh_is_loading === 0) {\n",
       "      console.log(\"Bokeh: BokehJS loaded, going straight to plotting\");\n",
       "      run_inline_js();\n",
       "    } else {\n",
       "      load_libs(js_urls, function() {\n",
       "        console.log(\"Bokeh: BokehJS plotting callback run at\", now());\n",
       "        run_inline_js();\n",
       "      });\n",
       "    }\n",
       "  }(this));\n",
       "</script>"
      ]
     },
     "metadata": {},
     "output_type": "display_data"
    }
   ],
   "source": [
    "p = create_figure(x_axis_label='Time', y_axis_label='Stress')\n",
    "p.line(mps.Time, mps.S.XX, color='blue')\n",
    "p.line(mps.Time, mps.S.YY, color='red')\n",
    "show(p)"
   ]
  },
  {
   "cell_type": "markdown",
   "metadata": {},
   "source": [
    "## Where to Next?\n",
    "\n",
    "[User Defined Materials](UserMaterials.ipynb)"
   ]
  }
 ],
 "metadata": {
  "anaconda-cloud": {},
  "kernelspec": {
   "display_name": "Python [default]",
   "language": "python",
   "name": "python2"
  },
  "language_info": {
   "codemirror_mode": {
    "name": "ipython",
    "version": 2
   },
   "file_extension": ".py",
   "mimetype": "text/x-python",
   "name": "python",
   "nbconvert_exporter": "python",
   "pygments_lexer": "ipython2",
   "version": "2.7.12"
  }
 },
 "nbformat": 4,
 "nbformat_minor": 0
}
