{
 "cells": [
  {
   "cell_type": "markdown",
   "metadata": {},
   "source": [
    "# Poroplastic Data Fitting"
   ]
  },
  {
   "cell_type": "code",
   "execution_count": null,
   "metadata": {
    "collapsed": false
   },
   "outputs": [],
   "source": [
    "%matmodlab\n",
    "from pandas import read_excel\n",
    "from scipy.optimize import leastsq\n",
    "diff = lambda x: np.ediff1d(x, to_begin=0.)\n",
    "trace = lambda x, s='SIG': x[s+'11'] + x[s+'22'] + x[s+'33']\n",
    "RTJ2 = lambda x: sqrt(((x['SIG11']-x['SIG22'])**2 + \n",
    "                       (x['SIG22']-x['SIG33'])**2 + \n",
    "                       (x['SIG33']-x['SIG22'])**2)/6.)"
   ]
  },
  {
   "cell_type": "markdown",
   "metadata": {},
   "source": [
    "## Summary\n",
    "\n",
    "In the cells to follow, the following material parameters were found\n",
    "\n",
    "$$\\begin{align}\n",
    "B_0 &= 14617807286.8\\\\\n",
    "B_1 &= 40384983097.2\\\\\n",
    "B_2 &= 385649437.858\\\\\n",
    "P_0 & = −164761936.257 \\\\\n",
    "P_1 & = 3.20119273834e−10\\\\\n",
    "P_2 & = 7.39166987894e−18\\\\\n",
    "P_3 & = 0.0983914345654\\\\\n",
    "G_1 & = 9647335534.93 \\\\\n",
    "G_2 & = 2.3838775292e−09 \\\\\n",
    "G_3 & = −7.40942609805e−07\\\\\n",
    "\\end{align}$$"
   ]
  },
  {
   "cell_type": "markdown",
   "metadata": {},
   "source": [
    "## Read in the Data\n",
    "\n",
    "Read in the hydrostatic data and compute derived values."
   ]
  },
  {
   "cell_type": "code",
   "execution_count": null,
   "metadata": {
    "collapsed": false
   },
   "outputs": [],
   "source": [
    "df = read_excel('porodata.xlsx', sheetname='hydrostatic')\n",
    "df['EV'] = trace(df, 'STRAIN')\n",
    "df['I1'] = trace(df, 'SIG')\n",
    "df['dEV'] = diff(df['EV'])\n",
    "df['dI1'] = diff(df['I1'])"
   ]
  },
  {
   "cell_type": "markdown",
   "metadata": {},
   "source": [
    "## Hydrostatic Response\n",
    "\n",
    "### Elastic Unloading Curve\n",
    "\n",
    "Plot the pressure vs. volume strain curve and determine the section in which elastic unloading occurs"
   ]
  },
  {
   "cell_type": "code",
   "execution_count": null,
   "metadata": {
    "collapsed": false
   },
   "outputs": [],
   "source": [
    "plot = figure(x_axis_label='Volume Strain', y_axis_label='Pressure')\n",
    "plot.circle(-df['EV'], -df['I1']/3.)\n",
    "plot.text(-df['EV'], -df['I1']/3.,\n",
    "    text=range(len(df)),text_color=\"#333333\",\n",
    "    text_align=\"left\", text_font_size=\"5pt\")\n",
    "show(plot)"
   ]
  },
  {
   "cell_type": "markdown",
   "metadata": {},
   "source": [
    "It appears that the unloading occurs at data point 101 and continues until the end of the data.  This curve will be used to fit the bulk modulus parameters.  Below, `scipy` is used to optimize the parameters to the curve."
   ]
  },
  {
   "cell_type": "code",
   "execution_count": null,
   "metadata": {
    "collapsed": true
   },
   "outputs": [],
   "source": [
    "kfun = lambda B0, B1, B2, I1: B0 + B1 * exp(-B2 / abs(I1))\n",
    "def kmm_bulk(x, fac, I1, K):\n",
    "    B0, B1, B2 = x * fac\n",
    "    return K - kfun(B0, B1, B2, I1)"
   ]
  },
  {
   "cell_type": "code",
   "execution_count": null,
   "metadata": {
    "collapsed": false
   },
   "outputs": [],
   "source": [
    "imax = 101\n",
    "df1 = df.iloc[imax:].copy()\n",
    "K = np.array(df1['dI1'] / 3. / df1['dEV'])\n",
    "b0 = np.array((K[-1], K[0] - K[-1], 1e9))\n",
    "fac = 1e9\n",
    "B, icov = leastsq(kmm_bulk, b0/fac, args=(fac, df1['I1'], K))\n",
    "B0, B1, B2 = B * fac\n",
    "B0, B1, B2"
   ]
  },
  {
   "cell_type": "code",
   "execution_count": null,
   "metadata": {
    "collapsed": false
   },
   "outputs": [],
   "source": [
    "plot = figure(x_axis_label='Bulk Modulus', y_axis_label='Pressure')\n",
    "plot.circle(-df1['I1']/3., K)\n",
    "plot.line(-df['I1']/3., kfun(B0, B1, B2, df['I1']), color='red')\n",
    "show(plot)"
   ]
  },
  {
   "cell_type": "markdown",
   "metadata": {},
   "source": [
    "## Poro response\n",
    "\n",
    "With the bulk response determined, find the porosity parameters"
   ]
  },
  {
   "cell_type": "code",
   "execution_count": null,
   "metadata": {
    "collapsed": false,
    "scrolled": false
   },
   "outputs": [],
   "source": [
    "df['EP'] = df['I1'] / 3. / kfun(B0, B1, B2, df['I1']) - df['EV']\n",
    "p3 = max(df['EP'])\n",
    "df['PORO'] = p3 - df['EP']\n",
    "plot = figure(x_axis_label='Plastic Strain', y_axis_label='Pressure')\n",
    "plot.circle(df['EP'], -df['I1']/3.)\n",
    "show(plot)"
   ]
  },
  {
   "cell_type": "code",
   "execution_count": null,
   "metadata": {
    "collapsed": false,
    "scrolled": false
   },
   "outputs": [],
   "source": [
    "plot = figure(x_axis_label='Pressure', y_axis_label='PORO')\n",
    "df2 = df.iloc[:imax].copy()\n",
    "plot.circle(-df2['I1']/3., df2['PORO'])\n",
    "show(plot)"
   ]
  },
  {
   "cell_type": "code",
   "execution_count": null,
   "metadata": {
    "collapsed": true
   },
   "outputs": [],
   "source": [
    "def pfun(P0, P1, P2, P3, I1):\n",
    "    xi = -I1 / 3. + P0\n",
    "    return P3 * exp(-(P1 + P2 * xi) * xi)\n",
    "    \n",
    "def kmm_poro(x, fac, I1, P):\n",
    "    p0, p1, p2, p3 = asarray(x) * fac\n",
    "    return P - pfun(p0, p1, p2, p3, I1)"
   ]
  },
  {
   "cell_type": "code",
   "execution_count": null,
   "metadata": {
    "collapsed": false
   },
   "outputs": [],
   "source": [
    "p0 = (1, 1, 1, p3)\n",
    "fac = np.array([1e8, 1e-10, 1e-18, 1])\n",
    "p, icov = leastsq(kmm_poro, p0, args=(fac, df2['I1'], df2['PORO']))\n",
    "P0, P1, P2, P3 = p * fac\n",
    "P0, P1, P2, P3"
   ]
  },
  {
   "cell_type": "code",
   "execution_count": null,
   "metadata": {
    "collapsed": false
   },
   "outputs": [],
   "source": [
    "plot = figure(x_axis_label='Pressure', y_axis_label='PORO')\n",
    "plot.circle(-df2['I1']/3., df2['PORO'], legend='Data')\n",
    "plot.line(-df2['I1']/3., pfun(P0, P1, P2, P3, df2['I1']), color='red', legend='Fit')\n",
    "show(plot)"
   ]
  },
  {
   "cell_type": "markdown",
   "metadata": {
    "collapsed": true
   },
   "source": [
    "## Shear Response"
   ]
  },
  {
   "cell_type": "code",
   "execution_count": null,
   "metadata": {
    "collapsed": false
   },
   "outputs": [],
   "source": [
    "keys = (2.5, 5.0, 7.5, 10.0, 12.5, 15.0, 22.5, 30.0)\n",
    "colors = ('red', 'blue', 'orange', 'purple', \n",
    "          'green', 'black', 'magenta', 'teal', 'cyan')\n",
    "df2 = {}\n",
    "p = figure(x_axis_label='I1', y_axis_label='Sqrt[J2]')\n",
    "p1 = figure(x_axis_label='Axial Strain', y_axis_label='Axial Stress')\n",
    "for (i, key) in enumerate(keys):\n",
    "    key = 'txc p={0:.01f}MPa'.format(key)\n",
    "    x = read_excel('porodata.xlsx', sheetname=key)\n",
    "    x['I1'] = trace(x, 'SIG')\n",
    "    x['RTJ2'] = RTJ2(x)\n",
    "    df2[key] = x\n",
    "    p.circle(-df2[key]['I1'], df2[key]['RTJ2'], legend=key[4:], color=colors[i])\n",
    "    \n",
    "    # determine where hydrostatic preload ends\n",
    "    j = nonzero(x['SIG11'] - x['SIG22'])[0]\n",
    "    E0, S0 = df2[key]['STRAIN11'][j[0]], df2[key]['SIG11'][j[0]]\n",
    "    p1.circle(-df2[key]['STRAIN11'][j]+E0, -df2[key]['SIG11'][j]+S0,\n",
    "              legend=key[4:], color=colors[i])\n",
    "\n",
    "p.legend.orientation = 'horizontal'\n",
    "show(p1)\n",
    "show(p)"
   ]
  },
  {
   "cell_type": "markdown",
   "metadata": {},
   "source": [
    "The axial stress versus axial strain plot shows that the response is linear, meaning that the elastic modulus is constant."
   ]
  },
  {
   "cell_type": "code",
   "execution_count": null,
   "metadata": {
    "collapsed": false
   },
   "outputs": [],
   "source": [
    "key = 'txc p=2.5MPa'\n",
    "j = nonzero(df2[key]['SIG11'] - df2[key]['SIG22'])[0]\n",
    "df3 = df2[key].iloc[j].copy()\n",
    "E0, S0 = df3['STRAIN11'].iloc[0], df3['SIG11'].iloc[0]\n",
    "EF, SF = df3['STRAIN11'].iloc[-1], df3['SIG11'].iloc[-1]\n",
    "E = (SF - S0) / (EF - E0)\n",
    "print '{0:E}'.format(E)"
   ]
  },
  {
   "cell_type": "markdown",
   "metadata": {},
   "source": [
    "The shear modulus can now be determined"
   ]
  },
  {
   "cell_type": "code",
   "execution_count": null,
   "metadata": {
    "collapsed": true
   },
   "outputs": [],
   "source": [
    "G = lambda I1: 3 * kfun(B0, B1, B2, I1) * E / (9 * kfun(B0, B1, B2, I1) - E)\n",
    "gfun = lambda g0, g1, g2, rtj2: g0 * (1 - g1 * exp(-g2 * rtj2)) / (1 - g1)\n",
    "def kmm_shear(x, fac, rtj2, G):\n",
    "    g0, g1, g2 = asarray(x) * fac\n",
    "    return G - gfun(g0, g1, g2, rtj2)"
   ]
  },
  {
   "cell_type": "code",
   "execution_count": null,
   "metadata": {
    "collapsed": false
   },
   "outputs": [],
   "source": [
    "g = asarray(G(df3['I1']))\n",
    "g0 = (g[0], .0001, 0)\n",
    "fac = 1.\n",
    "g, icov = leastsq(kmm_shear, g0, args=(fac, RTJ2(df3), g))\n",
    "G0, G1, G2 = g * fac\n",
    "G0, G1, G2"
   ]
  },
  {
   "cell_type": "code",
   "execution_count": null,
   "metadata": {
    "collapsed": false
   },
   "outputs": [],
   "source": [
    "p2 = figure(x_axis_label='Sqrt[J2]', y_axis_label='Shear Modulus')\n",
    "p2.circle(RTJ2(df3), G(df3['I1']))\n",
    "p2.line(RTJ2(df3), gfun(G0, G1, G2, RTJ2(df3)), color='red')\n",
    "show(p2)"
   ]
  },
  {
   "cell_type": "code",
   "execution_count": null,
   "metadata": {
    "collapsed": true
   },
   "outputs": [],
   "source": []
  }
 ],
 "metadata": {
  "anaconda-cloud": {},
  "kernelspec": {
   "display_name": "Python [default]",
   "language": "python",
   "name": "python2"
  },
  "language_info": {
   "codemirror_mode": {
    "name": "ipython",
    "version": 2
   },
   "file_extension": ".py",
   "mimetype": "text/x-python",
   "name": "python",
   "nbconvert_exporter": "python",
   "pygments_lexer": "ipython2",
   "version": "2.7.12"
  }
 },
 "nbformat": 4,
 "nbformat_minor": 0
}
