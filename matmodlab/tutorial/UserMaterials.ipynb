{
 "cells": [
  {
   "cell_type": "markdown",
   "metadata": {},
   "source": [
    "# User Defined Materials\n",
    "\n",
    "## Overview\n",
    "\n",
    "Matmodlab provides two methods of implementing user defined materials:\n",
    "\n",
    "- subclassing the `matmodlab.mmd.MaterialModel` class, and\n",
    "- interfacing with the Matmodlab Fortran `umat` API.\n",
    "\n",
    "The former are referred to as \"standard\" materials and the latter \"user\" materials.  The builtin materials provided in the Matmodlab material library are definded using both methods.\n",
    "\n",
    "For each implementation, the user material is called at each frame of every step. It is provided with the material state at the start of the increment (stress, solution-dependent state variables, temperature, etc) and with the increments in temperature, deformation, and time.\n",
    "\n",
    "The implementation of both model types will be demonstrated with a standard isotropic linear elastic model.  "
   ]
  },
  {
   "cell_type": "markdown",
   "metadata": {},
   "source": [
    "<a name='contents'></a>\n",
    "## Contents\n",
    "\n",
    "1. <a href='#linelast'>Isotropic Linear Elasticity</a>\n",
    "2. <a href='#umat.std'>Standard Model Implementation</a>\n",
    "3. <a href='#umat.user'>Fortran API Implementation</a>\n",
    "4. <a href='#umat.compare'>Model Comparison</a>\n",
    "5. <a href='#conc'>Conclusion</a>"
   ]
  },
  {
   "cell_type": "markdown",
   "metadata": {},
   "source": [
    "<a name='linelast'></a>\n",
    "## Isotropic Linear Elasticity\n",
    "\n",
    "The mechanical response of a linear elastic material is defined by\n",
    "\n",
    "$$\n",
    "\\pmb{\\sigma} = \\mathbb{C}{:}\\pmb{\\epsilon} = 3K\\pmb{\\epsilon}^{\\rm iso} + 2G\\pmb{\\epsilon}^{\\rm dev}\n",
    "$$\n",
    "\n",
    "where $K$ is the bulk modulus and $G$ is the shear modulus.  The strain $\\pmb{\\epsilon}$ can be determined from the deformation gradient $\\pmb{F}$ as\n",
    "\n",
    "$$\n",
    "\\pmb{\\epsilon} = \\frac{1}{2\\kappa}\\left[\\left(\\pmb{F}^{\\rm T}{\\cdot}\\pmb{F}\\right)^{2\\kappa} - \\pmb{I}\\right]\n",
    "$$\n",
    "\n",
    "where $\\kappa$ is the generalized [Seth-Hill](https://en.wikipedia.org/wiki/Finite_strain_theory#Seth-Hill_family_of_generalized_strain_tensors) strain parameter.  Defined as such, several well known finite strain measures are emitted:\n",
    "\n",
    "- $\\kappa=1$: Green-Lagrange reference strain\n",
    "- $\\kappa=-1$: Alamansi spatial strain\n",
    "- $\\kappa=0$: Logarithmic, or true, strain\n",
    "\n",
    "The implementations of linear elasticity to follow will take as input Young's modulus `E`, Poisson's ratio `Nu`, and the Seth-Hill parameter `k` for changing the strain definition."
   ]
  },
  {
   "cell_type": "markdown",
   "metadata": {},
   "source": [
    "<a name='umat.std'></a>\n",
    "## Standard Material Implementation\n",
    "\n",
    "Material models implemented as subclasses of the `MaterialModel` class are referred to as \"standard\" materials.  Minimally, the materials installed as standard materials must define\n",
    "\n",
    "- `name`: *class attribute*\n",
    "\n",
    "   Used for referencing the material model in the `MaterialPointSimulator`.\n",
    "   \n",
    "- `param_names`: *class method*\n",
    "\n",
    "   Used by the the `MaterialPointSimulator` for parsing input parameter names and assembling a material parameters array.\n",
    "   \n",
    "- `update_state`: *instance method*\n",
    "\n",
    "   Updates the material stress, stiffness (optional), and state dependent variables to the end of the time increment.  If the stiffness is returned as `None`, Matmodlab will determine it numerically.\n",
    "   \n",
    "Other optional methods include\n",
    "\n",
    "   \n",
    "- `setup`: *instance method [optional]*\n",
    "\n",
    "   Checks goodness of user input and requests storage allocation for state dependent variables.\n",
    "   \n",
    "In the example below, in addition to some standard functions imported from `Numpy`, several helper functions are imported from various locations in Matmodlab:\n",
    "\n",
    "- `matmodlab.utils.mmlabpack`\n",
    "\n",
    "   - `logm`, `powm`: computes the matrix logarithm and power\n",
    "   - `asarray`: converts a symmetric tensor stored as a 3x3 matrix to an array of length 6\n",
    "   - `polar_decomp`: computes the polar decomposition of the deformation gradient $\\pmb{F}$\n",
    "   - `iso`, `dev`: computes the isotropic and deviatoric parts of a second-order symmetric tensor stored as an array of length 6\n",
    "- `matmodlab.constants`\n",
    "   - `VOIGT`: mulitplier for converting tensor strain components to engineering strain components\n",
    "   \n",
    "The relevant input parameters to the `update_state` method from Matmodlab are:\n",
    "\n",
    "- `F`: the deformation gradient at the end of the step\n",
    "   \n",
    "### Loading the Material Model\n",
    "\n",
    "Once defined in a computational cell, the material model is loaded in to Matmodlab through the `load_material` function using the `std_material` keyword."
   ]
  },
  {
   "cell_type": "code",
   "execution_count": null,
   "metadata": {
    "collapsed": false,
    "scrolled": true
   },
   "outputs": [],
   "source": [
    "%matmodlab"
   ]
  },
  {
   "cell_type": "code",
   "execution_count": null,
   "metadata": {
    "collapsed": false
   },
   "outputs": [],
   "source": [
    "import logging\n",
    "from numpy import dot, zeros, ix_, eye\n",
    "from matmodlab.mmd.material import MaterialModel\n",
    "from matmodlab.utils.mmlabpack import logm, powm, asarray, polar_decomp, iso, dev\n",
    "from matmodlab.constants import VOIGT\n",
    "\n",
    "class UserElastic(MaterialModel):\n",
    "    name = \"uelastic-std\"\n",
    "\n",
    "    @classmethod\n",
    "    def param_names(cls, n):\n",
    "        return ['k', 'E', 'Nu']\n",
    "\n",
    "    def setup(self, **kwargs):\n",
    "        \"\"\"Set up the Elastic material\n",
    "\n",
    "        \"\"\"\n",
    "        logger = logging.getLogger('matmodlab.mmd.simulator')\n",
    "\n",
    "        # Check inputs\n",
    "        E = self.parameters['E']\n",
    "        Nu = self.parameters['Nu']\n",
    "\n",
    "        errors = 0\n",
    "        if E <= 0.0:\n",
    "            errors += 1\n",
    "            logger.error(\"Young's modulus E must be positive\")\n",
    "        if Nu > 0.5:\n",
    "            errors += 1\n",
    "            logger.error(\"Poisson's ratio > .5\")\n",
    "        if Nu < -1.0:\n",
    "            errors += 1\n",
    "            logger.error(\"Poisson's ratio < -1.\")\n",
    "        if Nu < 0.0:\n",
    "            logger.warn(\"#---- WARNING: negative Poisson's ratio\")\n",
    "        if errors:\n",
    "            raise ValueError(\"stopping due to previous errors\")\n",
    "\n",
    "    def update_state(self, time, dtime, temp, dtemp, energy, rho, F0, F,\n",
    "        stran, d, elec_field, stress, statev, **kwargs):\n",
    "        \"\"\"Compute updated stress given strain increment\"\"\"\n",
    "\n",
    "        # elastic properties\n",
    "        k = self.parameters['k']\n",
    "        E = self.parameters['E']\n",
    "        Nu = self.parameters['Nu']\n",
    "\n",
    "        # Get the bulk, shear, and Lame constants\n",
    "        K = E / 3. / (1. - 2. * Nu)\n",
    "        G = E / 2. / (1. + Nu)\n",
    "\n",
    "        K3 = 3. * K\n",
    "        G2 = 2. * G\n",
    "        Lam = (K3 - G2) / 3.\n",
    "\n",
    "        # elastic stiffness\n",
    "        ddsdde = zeros((6,6))\n",
    "        ddsdde[ix_(range(3), range(3))] = Lam\n",
    "        ddsdde[range(3),range(3)] += G2\n",
    "        ddsdde[range(3,6),range(3,6)] = G\n",
    "\n",
    "        R, U = polar_decomp(F.reshape(3,3))\n",
    "        if abs(k) <= 1e-12:\n",
    "            e = logm(U)\n",
    "        else:\n",
    "            e = 1. / 2 / k * (powm(U, 2*k) - eye(3))\n",
    "\n",
    "        # convert strain to an array\n",
    "        e = asarray(e, 6)\n",
    "\n",
    "        # stress update\n",
    "        stress = K3 * iso(e) + G2 * dev(e)\n",
    "\n",
    "        return stress, statev, ddsdde\n",
    "load_material(std_material=UserElastic)"
   ]
  },
  {
   "cell_type": "markdown",
   "metadata": {},
   "source": [
    "### Verification Test\n",
    "\n",
    "Exercising the elastic model through a path of uniaxial stress should result in the slope of axial stress vs. axial strain being equal to the input parameter `E`.\n",
    "\n",
    "**Note:** the input parameters to a standard material are given as a dictionary of `name:value` pairs for each paramter.  Parameters not specified are initialized to a value of zero."
   ]
  },
  {
   "cell_type": "code",
   "execution_count": null,
   "metadata": {
    "collapsed": false
   },
   "outputs": [],
   "source": [
    "mps1 = MaterialPointSimulator('uelastic-std')\n",
    "mps1.Material('uelastic-std', {'E': 10e6, 'Nu': .333})\n",
    "mps1.MixedStep(components=(.1, 0, 0), descriptors='ESS', frames=50)\n",
    "i = where(mps1.E.XX > 0.)\n",
    "E = mps1.S.XX[i] / mps1.E.XX[i]\n",
    "assert allclose(E, 10e6, atol=1e-3, rtol=1e-3)"
   ]
  },
  {
   "cell_type": "markdown",
   "metadata": {},
   "source": [
    "<a name='umat.user'></a>\n",
    "## Fortran API Implementation\n",
    "\n",
    "Material models implemented through the Fortran API are referred to as \"user\" materials.  The user material must provide a `umat` subroutine with the following signature:\n",
    "\n",
    "```fortran\n",
    "subroutine umat(stress, statev, ddsdde, sse, spd, scd, rpl, &\n",
    "     ddsddt, drplde, drpldt, stran, dstran, time, dtime, temp, dtemp, &\n",
    "     predef, dpred, cmname, ndi, nshr, ntens, nstatv, props, nprops, &\n",
    "     coords, drot, pnewdt, celent, dfgrd0, dfgrd1, noel, npt, layer, &\n",
    "     kspt, kstep, kinc)\n",
    "```\n",
    "\n",
    "Isotropic linear elasticity has been implemented in `umat_linear_elastic.f90`.  The parameters relevant to the material material are:\n",
    "\n",
    "- `props` (input): material parameter array\n",
    "- `dfgrd1` (input): deformation gradient\n",
    "- `ddsdde` (output): material tangent stiffness\n",
    "- `stress` (output): material stress\n",
    "\n",
    "Utility procedures, linked to all user materials, used in the linear elastic model are\n",
    "\n",
    "- `stdb_abqerr(iop, msg, intv, realv, charv)`: writes messages to the output file\n",
    "- `sprind(S, AL, AV, imul, ndir, nshr)`: computes eigenvalues and eigenvectors\n",
    "\n",
    "Full descriptions of these, and other utility procedures are given in the full documentation.\n",
    "\n",
    "### Loading the Material Model\n",
    "\n",
    "Like the standard material, the user material is loaded in to Matmodlab by the `load_material` function but using the `user_material` keyword to point to the Fortran file containing the material model definitions (coding).  Additionally, the `name` keyword is required for user materials so that the material can be referenced by name throughout Matmodlab."
   ]
  },
  {
   "cell_type": "code",
   "execution_count": null,
   "metadata": {
    "collapsed": false,
    "scrolled": false
   },
   "outputs": [],
   "source": [
    "filename = 'umat_linear_elastic.f90'\n",
    "print open(filename).read()\n",
    "load_material(user_material=filename, name='uelastic_user')"
   ]
  },
  {
   "cell_type": "markdown",
   "metadata": {},
   "source": [
    "### Verification Test\n",
    "\n",
    "Exercising the elastic model through a path of uniaxial stress should result in the slope of axial stress vs. axial strain being equal to the input parameter `E`.\n",
    "\n",
    "**Note:** the input parameters to a user material are given as a sequence of values given in the order expected by the material."
   ]
  },
  {
   "cell_type": "code",
   "execution_count": null,
   "metadata": {
    "collapsed": false
   },
   "outputs": [],
   "source": [
    "environ.verbosity = 5\n",
    "mps2 = MaterialPointSimulator('uelastic_user')\n",
    "mps2.Material('uelastic_user', [0, 10e6, .333])\n",
    "mps2.MixedStep(components=(.1, 0, 0), descriptors='ESS', frames=50)\n",
    "i = where(mps2.E.XX > 0.)\n",
    "E = mps2.S.XX[i] / mps2.E.XX[i]\n",
    "assert allclose(E, 10e6, atol=1e-3, rtol=1e-3)"
   ]
  },
  {
   "cell_type": "markdown",
   "metadata": {},
   "source": [
    "<a name='umat.compare'></a>\n",
    "## Material Model Comparison\n",
    "\n",
    "The response of each material should be identical, to within the precision of each implementation."
   ]
  },
  {
   "cell_type": "code",
   "execution_count": null,
   "metadata": {
    "collapsed": false
   },
   "outputs": [],
   "source": [
    "p = create_figure()\n",
    "p.line(mps1.E.XX, mps1.S.XX, line_width=8, color='orange')\n",
    "p.line(mps2.E.XX, mps2.S.XX, line_width=2, color='blue')\n",
    "show(p)"
   ]
  },
  {
   "cell_type": "markdown",
   "metadata": {},
   "source": [
    "<a name='conc'></a>\n",
    "## Conclusion\n",
    "\n",
    "Several methods exist for defining user materials, two of which were outlined in this notebook."
   ]
  }
 ],
 "metadata": {
  "anaconda-cloud": {},
  "kernelspec": {
   "display_name": "Python [default]",
   "language": "python",
   "name": "python2"
  },
  "language_info": {
   "codemirror_mode": {
    "name": "ipython",
    "version": 2
   },
   "file_extension": ".py",
   "mimetype": "text/x-python",
   "name": "python",
   "nbconvert_exporter": "python",
   "pygments_lexer": "ipython2",
   "version": "2.7.12"
  }
 },
 "nbformat": 4,
 "nbformat_minor": 0
}
